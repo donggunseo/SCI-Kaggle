{
 "cells": [
  {
   "cell_type": "code",
   "execution_count": 1,
   "metadata": {},
   "outputs": [],
   "source": [
    "! pip install glove_python_binary | grep satistfied"
   ]
  },
  {
   "cell_type": "markdown",
   "metadata": {},
   "source": [
    "Pretrained Glove file(e.g., glove.6B.txt)을 써서 유사도를 구하려 했으나 discourse_text 단어가 없는 경우가 많았다. <br>\n",
    "따라서, Feedback Prize text 단어들로 glove를 새로 학습하는 방법을 채택하였다."
   ]
  },
  {
   "cell_type": "markdown",
   "metadata": {},
   "source": [
    "### 1. Text 준비\n",
    "학습할 코퍼스 문서를 단어단위로 쪼개어 리스트를 만든다."
   ]
  },
  {
   "cell_type": "code",
   "execution_count": 4,
   "metadata": {},
   "outputs": [
    {
     "name": "stderr",
     "output_type": "stream",
     "text": [
      "100%|██████████| 15594/15594 [00:00<00:00, 115903.10it/s]\n"
     ]
    }
   ],
   "source": [
    "\n",
    "import os\n",
    "from tqdm import tqdm\n",
    "import pandas as pd\n",
    "BASE_DIR = \"../input/feedback-prize-2021/\"\n",
    "TRAIN_DIR = BASE_DIR + 'train'\n",
    "\n",
    "def open_txt():\n",
    "    train_names, train_texts = [], []\n",
    "    for f in tqdm(list(os.listdir(TRAIN_DIR))):\n",
    "        train_names.append(f.replace('.txt', ''))\n",
    "        train_texts.append(open('../input/feedback-prize-2021/train/' + f, 'r', encoding='utf-8').read())\n",
    "    train_text_df = pd.DataFrame({'id': train_names, 'text': train_texts})\n",
    "\n",
    "    return train_text_df\n",
    "\n",
    "train_text_df = open_txt()"
   ]
  },
  {
   "cell_type": "code",
   "execution_count": 5,
   "metadata": {},
   "outputs": [
    {
     "name": "stdout",
     "output_type": "stream",
     "text": [
      "document count : 15594\n"
     ]
    }
   ],
   "source": [
    "doc_list = []\n",
    "for line in train_text_df['text'].values:\n",
    "    doc_list.append(line.split())\n",
    "\n",
    "print(\"document count :\", len(doc_list))"
   ]
  },
  {
   "cell_type": "markdown",
   "metadata": {},
   "source": [
    "### 2. Corpus 학습 \n",
    "Corpus를 통해 데이터를 가공하여 동시 등장 행렬을 생성한다. 이를 기반으로 glove 모델을 학습시킬 것이다."
   ]
  },
  {
   "cell_type": "code",
   "execution_count": 12,
   "metadata": {},
   "outputs": [],
   "source": [
    "from glove import Corpus, Glove\n",
    "\n",
    "corpus = Corpus()\n",
    "corpus.fit(doc_list, window=3)\n"
   ]
  },
  {
   "cell_type": "markdown",
   "metadata": {},
   "source": [
    "### 3. GloVe 학습\n",
    "생성한 corpus로 glove 학습"
   ]
  },
  {
   "cell_type": "code",
   "execution_count": 23,
   "metadata": {},
   "outputs": [
    {
     "name": "stdout",
     "output_type": "stream",
     "text": [
      "Performing 20 training epochs with 100 threads\n",
      "Epoch 0\n",
      "Epoch 1\n",
      "Epoch 2\n",
      "Epoch 3\n",
      "Epoch 4\n",
      "Epoch 5\n",
      "Epoch 6\n",
      "Epoch 7\n",
      "Epoch 8\n",
      "Epoch 9\n",
      "Epoch 10\n",
      "Epoch 11\n",
      "Epoch 12\n",
      "Epoch 13\n",
      "Epoch 14\n",
      "Epoch 15\n",
      "Epoch 16\n",
      "Epoch 17\n",
      "Epoch 18\n",
      "Epoch 19\n"
     ]
    }
   ],
   "source": [
    "# 경사하강법 학습률 0.05, 아웃풋 벡터의 차원 100\n",
    "glove = Glove(no_components=100, learning_rate=0.01)\n",
    "# 쓰레드 개수는 4개, 훈련 횟수는 20번, verbose (설명) True\n",
    "glove.fit(corpus.matrix, epochs=20, no_threads=100, verbose=True)\n",
    "# 유사도 검색을 위한 행렬의 index 정보 입력"
   ]
  },
  {
   "cell_type": "markdown",
   "metadata": {},
   "source": [
    "### 4. Similiarty 계산"
   ]
  },
  {
   "cell_type": "code",
   "execution_count": 33,
   "metadata": {},
   "outputs": [
    {
     "name": "stdout",
     "output_type": "stream",
     "text": [
      "[('could', 0.9955123279470905), ('allow', 0.9955064526248815), ('helps', 0.9944355517393171), ('give', 0.9941213214217731)]\n"
     ]
    }
   ],
   "source": [
    "glove.add_dictionary(corpus.dictionary)\n",
    "model_result1 = glove.most_similar(\"will\")\n",
    "print(model_result1)\n"
   ]
  },
  {
   "cell_type": "markdown",
   "metadata": {},
   "source": [
    "### 5. model 저장"
   ]
  },
  {
   "cell_type": "code",
   "execution_count": 34,
   "metadata": {},
   "outputs": [],
   "source": [
    "glove.save('glove.model')"
   ]
  },
  {
   "cell_type": "markdown",
   "metadata": {},
   "source": [
    "### 6. model 불러오기"
   ]
  },
  {
   "cell_type": "code",
   "execution_count": 3,
   "metadata": {},
   "outputs": [
    {
     "name": "stdout",
     "output_type": "stream",
     "text": [
      "[('u', 0.7895759901533169), ('What', 0.7739260268105668), ('there', 0.7594694963223717), ('maybe', 0.759107841133347)]\n"
     ]
    }
   ],
   "source": [
    "from glove import Corpus, Glove\n",
    "glove = Glove.load('glove.model')\n",
    "\n",
    "model_result1 = glove.most_similar(\"if\")\n",
    "print(model_result1)"
   ]
  },
  {
   "cell_type": "code",
   "execution_count": null,
   "metadata": {},
   "outputs": [],
   "source": []
  }
 ],
 "metadata": {
  "interpreter": {
   "hash": "5aa82812c4681f8310f3f49363d12ac4c7be23abd4617d81f239e4ef56509db9"
  },
  "kernelspec": {
   "display_name": "Python 3.8.12 ('py38')",
   "language": "python",
   "name": "python3"
  },
  "language_info": {
   "codemirror_mode": {
    "name": "ipython",
    "version": 3
   },
   "file_extension": ".py",
   "mimetype": "text/x-python",
   "name": "python",
   "nbconvert_exporter": "python",
   "pygments_lexer": "ipython3",
   "version": "3.8.12"
  },
  "orig_nbformat": 4
 },
 "nbformat": 4,
 "nbformat_minor": 2
}
