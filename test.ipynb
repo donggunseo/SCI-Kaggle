{
 "cells": [
  {
   "cell_type": "code",
   "execution_count": 1,
   "metadata": {},
   "outputs": [
    {
     "name": "stderr",
     "output_type": "stream",
     "text": [
      "100%|██████████| 15594/15594 [00:02<00:00, 6895.79it/s]\n",
      "15594it [01:33, 167.34it/s]\n",
      "100%|██████████| 4/4 [00:04<00:00,  1.24s/ba]\n",
      "100%|██████████| 4/4 [00:05<00:00,  1.26s/ba]\n",
      "100%|██████████| 4/4 [00:05<00:00,  1.33s/ba]\n",
      "100%|██████████| 4/4 [00:04<00:00,  1.19s/ba]\n",
      "100%|██████████| 4/4 [00:05<00:00,  1.28s/ba]\n"
     ]
    }
   ],
   "source": [
    "from prepare import prepare_datasets\n",
    "\n",
    "x, _, _, _, _ = prepare_datasets()"
   ]
  },
  {
   "cell_type": "code",
   "execution_count": 3,
   "metadata": {},
   "outputs": [],
   "source": [
    "max_len =-1\n",
    "for i in range(5):\n",
    "    df = x[i]\n",
    "    for item in df['input_ids']:\n",
    "        length = len(item)\n",
    "        if max_len<length:\n",
    "            max_len = length"
   ]
  },
  {
   "cell_type": "code",
   "execution_count": 4,
   "metadata": {},
   "outputs": [
    {
     "data": {
      "text/plain": [
       "1850"
      ]
     },
     "execution_count": 4,
     "metadata": {},
     "output_type": "execute_result"
    }
   ],
   "source": [
    "max_len"
   ]
  },
  {
   "cell_type": "code",
   "execution_count": null,
   "metadata": {},
   "outputs": [],
   "source": []
  }
 ],
 "metadata": {
  "interpreter": {
   "hash": "31f2aee4e71d21fbe5cf8b01ff0e069b9275f58929596ceb00d14d90e3e16cd6"
  },
  "kernelspec": {
   "display_name": "Python 3.6.9 64-bit",
   "language": "python",
   "name": "python3"
  },
  "language_info": {
   "codemirror_mode": {
    "name": "ipython",
    "version": 3
   },
   "file_extension": ".py",
   "mimetype": "text/x-python",
   "name": "python",
   "nbconvert_exporter": "python",
   "pygments_lexer": "ipython3",
   "version": "3.8.10"
  },
  "orig_nbformat": 4
 },
 "nbformat": 4,
 "nbformat_minor": 2
}
