{
 "cells": [
  {
   "cell_type": "code",
   "execution_count": 35,
   "metadata": {},
   "outputs": [],
   "source": [
    "! pip3 install autocorrect -qq \n",
    "! pip install glove_python_binary | grep satistfied"
   ]
  },
  {
   "cell_type": "code",
   "execution_count": 42,
   "metadata": {},
   "outputs": [],
   "source": [
    "from autocorrect import Speller\n",
    "import pandas as pd\n",
    "import numpy as np\n",
    "from tqdm import tqdm\n",
    "import os\n",
    "from glove import Glove\n",
    "import random\n",
    "import re"
   ]
  },
  {
   "cell_type": "code",
   "execution_count": 43,
   "metadata": {},
   "outputs": [],
   "source": [
    "BASE_DIR = \"../input/feedback-prize-2021/\"\n",
    "TRAIN_DIR = BASE_DIR + 'train'\n",
    "SAVE_DIR = BASE_DIR + 'train_oversamples'\n",
    "\n",
    "if not os.path.exists(SAVE_DIR):\n",
    "    os.mkdir(SAVE_DIR)\n"
   ]
  },
  {
   "cell_type": "code",
   "execution_count": 44,
   "metadata": {},
   "outputs": [
    {
     "data": {
      "text/html": [
       "<div>\n",
       "<style scoped>\n",
       "    .dataframe tbody tr th:only-of-type {\n",
       "        vertical-align: middle;\n",
       "    }\n",
       "\n",
       "    .dataframe tbody tr th {\n",
       "        vertical-align: top;\n",
       "    }\n",
       "\n",
       "    .dataframe thead th {\n",
       "        text-align: right;\n",
       "    }\n",
       "</style>\n",
       "<table border=\"1\" class=\"dataframe\">\n",
       "  <thead>\n",
       "    <tr style=\"text-align: right;\">\n",
       "      <th></th>\n",
       "      <th>id</th>\n",
       "      <th>discourse_id</th>\n",
       "      <th>discourse_type</th>\n",
       "      <th>discourse_type_num</th>\n",
       "      <th>discourse_start</th>\n",
       "      <th>discourse_end</th>\n",
       "      <th>discourse_text</th>\n",
       "      <th>predictionstring</th>\n",
       "    </tr>\n",
       "  </thead>\n",
       "  <tbody>\n",
       "    <tr>\n",
       "      <th>0</th>\n",
       "      <td>423A1CA112E2</td>\n",
       "      <td>1.622628e+12</td>\n",
       "      <td>Lead</td>\n",
       "      <td>Lead 1</td>\n",
       "      <td>8</td>\n",
       "      <td>229</td>\n",
       "      <td>Modern humans today are always on their phone....</td>\n",
       "      <td>1 2 3 4 5 6 7 8 9 10 11 12 13 14 15 16 17 18 1...</td>\n",
       "    </tr>\n",
       "    <tr>\n",
       "      <th>1</th>\n",
       "      <td>423A1CA112E2</td>\n",
       "      <td>1.622628e+12</td>\n",
       "      <td>Position</td>\n",
       "      <td>Position 1</td>\n",
       "      <td>230</td>\n",
       "      <td>312</td>\n",
       "      <td>They are some really bad consequences when stu...</td>\n",
       "      <td>45 46 47 48 49 50 51 52 53 54 55 56 57 58 59</td>\n",
       "    </tr>\n",
       "    <tr>\n",
       "      <th>2</th>\n",
       "      <td>423A1CA112E2</td>\n",
       "      <td>1.622628e+12</td>\n",
       "      <td>Evidence</td>\n",
       "      <td>Evidence 1</td>\n",
       "      <td>313</td>\n",
       "      <td>400</td>\n",
       "      <td>Some certain areas in the United States ban ph...</td>\n",
       "      <td>60 61 62 63 64 65 66 67 68 69 70 71 72 73 74 75</td>\n",
       "    </tr>\n",
       "    <tr>\n",
       "      <th>3</th>\n",
       "      <td>423A1CA112E2</td>\n",
       "      <td>1.622628e+12</td>\n",
       "      <td>Evidence</td>\n",
       "      <td>Evidence 2</td>\n",
       "      <td>402</td>\n",
       "      <td>757</td>\n",
       "      <td>When people have phones, they know about certa...</td>\n",
       "      <td>76 77 78 79 80 81 82 83 84 85 86 87 88 89 90 9...</td>\n",
       "    </tr>\n",
       "    <tr>\n",
       "      <th>4</th>\n",
       "      <td>423A1CA112E2</td>\n",
       "      <td>1.622628e+12</td>\n",
       "      <td>Claim</td>\n",
       "      <td>Claim 1</td>\n",
       "      <td>759</td>\n",
       "      <td>886</td>\n",
       "      <td>Driving is one of the way how to get around. P...</td>\n",
       "      <td>139 140 141 142 143 144 145 146 147 148 149 15...</td>\n",
       "    </tr>\n",
       "  </tbody>\n",
       "</table>\n",
       "</div>"
      ],
      "text/plain": [
       "             id  discourse_id discourse_type discourse_type_num  \\\n",
       "0  423A1CA112E2  1.622628e+12           Lead             Lead 1   \n",
       "1  423A1CA112E2  1.622628e+12       Position         Position 1   \n",
       "2  423A1CA112E2  1.622628e+12       Evidence         Evidence 1   \n",
       "3  423A1CA112E2  1.622628e+12       Evidence         Evidence 2   \n",
       "4  423A1CA112E2  1.622628e+12          Claim            Claim 1   \n",
       "\n",
       "   discourse_start  discourse_end  \\\n",
       "0                8            229   \n",
       "1              230            312   \n",
       "2              313            400   \n",
       "3              402            757   \n",
       "4              759            886   \n",
       "\n",
       "                                      discourse_text  \\\n",
       "0  Modern humans today are always on their phone....   \n",
       "1  They are some really bad consequences when stu...   \n",
       "2  Some certain areas in the United States ban ph...   \n",
       "3  When people have phones, they know about certa...   \n",
       "4  Driving is one of the way how to get around. P...   \n",
       "\n",
       "                                    predictionstring  \n",
       "0  1 2 3 4 5 6 7 8 9 10 11 12 13 14 15 16 17 18 1...  \n",
       "1       45 46 47 48 49 50 51 52 53 54 55 56 57 58 59  \n",
       "2    60 61 62 63 64 65 66 67 68 69 70 71 72 73 74 75  \n",
       "3  76 77 78 79 80 81 82 83 84 85 86 87 88 89 90 9...  \n",
       "4  139 140 141 142 143 144 145 146 147 148 149 15...  "
      ]
     },
     "execution_count": 44,
     "metadata": {},
     "output_type": "execute_result"
    }
   ],
   "source": [
    "DISCOURSE_TYPES = ['Rebuttal', 'Counterclaim', 'Lead', 'Concluding Statement', 'Claim', 'Position', 'Evidence']\n",
    "WEAK_DISCOURSE_TYPES = ['Rebuttal', 'Counterclaim']\n",
    "FULL_DISCOURSE_TYPES = ['Lead', 'Concluding Statement', 'Claim', 'Position', 'Evidence']\n",
    "\n",
    "glove = Glove.load('glove.model')\n",
    "\n",
    "df = pd.read_csv(BASE_DIR + \"corrected_train.csv\")      \n",
    "\n",
    "df.drop(['discourse_start', 'discourse_end', 'discourse_text', 'predictionstring'], axis='columns', inplace=True)\n",
    "df.rename(columns = {'new_start':'discourse_start', 'new_end':'discourse_end', 'new_discourse_text':'discourse_text', 'new_predictionstring':'predictionstring'}, inplace=True)\n",
    "\n",
    "df.head()"
   ]
  },
  {
   "cell_type": "code",
   "execution_count": 45,
   "metadata": {},
   "outputs": [
    {
     "name": "stderr",
     "output_type": "stream",
     "text": [
      "100%|██████████| 15594/15594 [00:00<00:00, 120661.21it/s]\n"
     ]
    },
    {
     "data": {
      "text/html": [
       "<div>\n",
       "<style scoped>\n",
       "    .dataframe tbody tr th:only-of-type {\n",
       "        vertical-align: middle;\n",
       "    }\n",
       "\n",
       "    .dataframe tbody tr th {\n",
       "        vertical-align: top;\n",
       "    }\n",
       "\n",
       "    .dataframe thead th {\n",
       "        text-align: right;\n",
       "    }\n",
       "</style>\n",
       "<table border=\"1\" class=\"dataframe\">\n",
       "  <thead>\n",
       "    <tr style=\"text-align: right;\">\n",
       "      <th></th>\n",
       "      <th>id</th>\n",
       "      <th>text</th>\n",
       "    </tr>\n",
       "  </thead>\n",
       "  <tbody>\n",
       "    <tr>\n",
       "      <th>0</th>\n",
       "      <td>B7E936A82959</td>\n",
       "      <td>The advantages of limiting car usages is that ...</td>\n",
       "    </tr>\n",
       "    <tr>\n",
       "      <th>1</th>\n",
       "      <td>7D59699BB70F</td>\n",
       "      <td>One of the advantages of getting rid of cars i...</td>\n",
       "    </tr>\n",
       "    <tr>\n",
       "      <th>2</th>\n",
       "      <td>6163745AA739</td>\n",
       "      <td>Have you ever been driving a car and wish that...</td>\n",
       "    </tr>\n",
       "    <tr>\n",
       "      <th>3</th>\n",
       "      <td>6770F94889E2</td>\n",
       "      <td>Ever thought of a car that drives itself? Seem...</td>\n",
       "    </tr>\n",
       "    <tr>\n",
       "      <th>4</th>\n",
       "      <td>F8173F146C1B</td>\n",
       "      <td>I've never had to complete a summer project be...</td>\n",
       "    </tr>\n",
       "  </tbody>\n",
       "</table>\n",
       "</div>"
      ],
      "text/plain": [
       "             id                                               text\n",
       "0  B7E936A82959  The advantages of limiting car usages is that ...\n",
       "1  7D59699BB70F  One of the advantages of getting rid of cars i...\n",
       "2  6163745AA739  Have you ever been driving a car and wish that...\n",
       "3  6770F94889E2  Ever thought of a car that drives itself? Seem...\n",
       "4  F8173F146C1B  I've never had to complete a summer project be..."
      ]
     },
     "execution_count": 45,
     "metadata": {},
     "output_type": "execute_result"
    }
   ],
   "source": [
    "def open_txt():\n",
    "    train_names, train_texts = [], []\n",
    "    for f in tqdm(list(os.listdir(TRAIN_DIR))):\n",
    "        train_names.append(f.replace('.txt', ''))\n",
    "        train_texts.append(open('../input/feedback-prize-2021/train/' + f, 'r', encoding='utf-8').read())\n",
    "    train_text_df = pd.DataFrame({'id': train_names, 'text': train_texts})\n",
    "\n",
    "    return train_text_df\n",
    "\n",
    "train_text_df = open_txt()\n",
    "train_text_df.head()"
   ]
  },
  {
   "cell_type": "code",
   "execution_count": 46,
   "metadata": {},
   "outputs": [
    {
     "data": {
      "text/plain": [
       "Rebuttal                 3598\n",
       "Counterclaim             4576\n",
       "Lead                     9301\n",
       "Concluding Statement    13418\n",
       "Claim                   14927\n",
       "Position                15366\n",
       "Evidence                15550\n",
       "dtype: int64"
      ]
     },
     "execution_count": 46,
     "metadata": {},
     "output_type": "execute_result"
    }
   ],
   "source": [
    "X_ids = list(df['id'].unique())\n",
    "id2types = df.groupby('id')['discourse_type'].unique().to_dict()\n",
    "\n",
    "def train_ids2discourse_type_counts(X_ids):\n",
    "    \n",
    "    no_num = re.compile('[^0-9]')\n",
    "    type_count = dict([(dt, 0) for dt  in DISCOURSE_TYPES])\n",
    "    \n",
    "    for _id in X_ids:\n",
    "        for dt in id2types[_id]:\n",
    "            dt_name = \"\".join(no_num.findall(dt)).rstrip(\" \")\n",
    "            type_count[dt_name] += 1\n",
    "            \n",
    "    return pd.Series(type_count).sort_values()\n",
    "\n",
    "type_count = train_ids2discourse_type_counts(X_ids)\n",
    "type_count\n"
   ]
  },
  {
   "cell_type": "code",
   "execution_count": 47,
   "metadata": {},
   "outputs": [
    {
     "name": "stderr",
     "output_type": "stream",
     "text": [
      "  0%|          | 0/2 [00:00<?, ?it/s]"
     ]
    },
    {
     "name": "stdout",
     "output_type": "stream",
     "text": [
      "Rebuttal\n"
     ]
    },
    {
     "name": "stderr",
     "output_type": "stream",
     "text": [
      "100%|██████████| 2/2 [00:37<00:00, 18.96s/it]"
     ]
    },
    {
     "name": "stdout",
     "output_type": "stream",
     "text": [
      "Counterclaim\n"
     ]
    },
    {
     "name": "stderr",
     "output_type": "stream",
     "text": [
      "\n"
     ]
    }
   ],
   "source": [
    "FILL_TO = max(type_count)\n",
    "add_ids = []\n",
    "# Oversample to Maximum Sample Count\n",
    "for dt in tqdm(WEAK_DISCOURSE_TYPES):\n",
    "    print(dt)\n",
    "    # Get current Discourse Type Count\n",
    "    type_count = train_ids2discourse_type_counts(X_ids)\n",
    "    dt_sample_count = type_count[dt]\n",
    "    if dt_sample_count < FILL_TO:\n",
    "        while dt_sample_count < FILL_TO:\n",
    "            # Take Random ID\n",
    "            random_id = str(np.random.choice(X_ids, 1).squeeze())\n",
    "            if dt in id2types[random_id] :\n",
    "                X_ids.append(random_id)\n",
    "                add_ids.append(random_id)\n",
    "                dt_sample_count += 1"
   ]
  },
  {
   "cell_type": "code",
   "execution_count": 48,
   "metadata": {},
   "outputs": [
    {
     "name": "stdout",
     "output_type": "stream",
     "text": [
      "sampling id count : 11952\n",
      "MAX count : 15550\n"
     ]
    },
    {
     "data": {
      "text/plain": [
       "Rebuttal                15550\n",
       "Counterclaim            16527\n",
       "Lead                    17473\n",
       "Concluding Statement    24285\n",
       "Claim                   26563\n",
       "Position                27310\n",
       "Evidence                27464\n",
       "dtype: int64"
      ]
     },
     "execution_count": 48,
     "metadata": {},
     "output_type": "execute_result"
    }
   ],
   "source": [
    "print(\"sampling id count :\", len(add_ids))\n",
    "print(\"MAX count :\", FILL_TO)\n",
    "train_ids2discourse_type_counts(X_ids)"
   ]
  },
  {
   "cell_type": "code",
   "execution_count": 49,
   "metadata": {},
   "outputs": [],
   "source": [
    "def correct_misspelling(train_text):\n",
    "    correct_count = 0\n",
    "    spell = Speller(lang='en')\n",
    "    for idx, word in enumerate(train_text):\n",
    "        cor_word = spell(word)\n",
    "        if word != cor_word:\n",
    "            train_text[idx] = cor_word\n",
    "            correct_count += 1\n",
    "    return train_text, correct_count\n",
    "\n",
    "# txt = 'mismatch! so cannot oversampling this discorse tpye'\n",
    "# train_text = txt.split()\n",
    "# correct_misspelling(train_text)"
   ]
  },
  {
   "cell_type": "code",
   "execution_count": 52,
   "metadata": {},
   "outputs": [],
   "source": [
    "def do_change(example, txt):\n",
    "    discourse_text = example['discourse_text'].split()\n",
    "    predictionstring = example['predictionstring'].split()\n",
    "    # train_text = example['text'].split()\n",
    "    train_text = txt.split()\n",
    "    \n",
    "    if len(discourse_text) != len(predictionstring):\n",
    "        print(\"mismatch! so cannot oversampling this discorse type\")\n",
    "        return \n",
    "    \n",
    "    # correct misspelling\n",
    "    train_text, correction_count = correct_misspelling(train_text)\n",
    "    \n",
    "    # synonym replacement\n",
    "    is_replaced = False\n",
    "    while not is_replaced:\n",
    "        list_idx = int(np.random.choice(len(predictionstring), 1))\n",
    "        txt_idx = int(predictionstring[list_idx])\n",
    "        origin_word = discourse_text[list_idx]\n",
    "        \n",
    "        try:\n",
    "            replace_word = glove.most_similar(origin_word)[0][0]\n",
    "        except:\n",
    "            print(origin_word)\n",
    "            continue\n",
    "        \n",
    "        train_text[txt_idx] = replace_word\n",
    "        discourse_text[list_idx] = replace_word\n",
    "        is_replaced = True\n",
    "            \n",
    "    example['predictionstring'] = example['predictionstring']\n",
    "    example['discourse_text'] = \" \".join(discourse_text)\n",
    "    txt = \" \".join(train_text)\n",
    "    \n",
    "    return example, txt, correction_count"
   ]
  },
  {
   "cell_type": "code",
   "execution_count": 55,
   "metadata": {},
   "outputs": [],
   "source": [
    "def oversamplig(df):\n",
    "    new_df = pd.DataFrame(columns=df.columns)\n",
    "    for id in add_ids:\n",
    "        count = 0\n",
    "        new_id = \"{0}_S\".format(id)\n",
    "        \n",
    "        examples = df[df.id == id]          # id의 모든 discourse type 행을 추출\n",
    "        text = train_text_df[train_text_df.id == id]['text'].values[0]  # id에 맞는 원본 text를 로드\n",
    "        \n",
    "        for i, example in examples.iterrows(): \n",
    "            # id내 annotation된 discourse type을 살피면서 워드를 바꾼다.\n",
    "            # Rebuttal, Counterclaim인 경우, 무조건 바꿈\n",
    "            # 그외 타입인 경우, 확률적으로 바꿈.\n",
    "            #\n",
    "            # discourse type이 변경된 경우, df에 계속해서 추가한다.\n",
    "            # text는 모든 변경사항을 누적시키며, for문이 끝난 후 새로운 파일로 저장함.\n",
    "            new_example = None\n",
    "            if example['discourse_type'] in WEAK_DISCOURSE_TYPES:\n",
    "                new_example, text, correction_count = do_change(example.copy(), text)\n",
    "                count += 1\n",
    "            else:\n",
    "                if random.random() > 0.8:\n",
    "                    new_example, text, correction_count = do_change(example.copy(), text)\n",
    "                    count += 1\n",
    "            if new_example is not None:\n",
    "                new_example['id'] = new_id\n",
    "                new_df = new_df.append(new_example)\n",
    "            \n",
    "    \n",
    "        # save txt \n",
    "        with open(SAVE_DIR+ '/{0}.txt'.format(new_id), 'w') as f:\n",
    "            f.write(text)\n",
    "            \n",
    "        print(\"new_id: {0} \\t Add {1} / {2} discourse types. correction count : {3}\".format(new_id, count, len(examples), correction_count))     \n",
    "    print(\"complete oversampling --  total new rows : \", len(new_df))         \n",
    "    return new_df.drop(['text'], axis=1)\n",
    "                \n",
    "        "
   ]
  },
  {
   "cell_type": "code",
   "execution_count": null,
   "metadata": {},
   "outputs": [],
   "source": [
    "new_df = df.copy()\n",
    "print(len(new_df))\n",
    "new_df = oversamplig(new_df)"
   ]
  },
  {
   "cell_type": "code",
   "execution_count": null,
   "metadata": {},
   "outputs": [
    {
     "data": {
      "text/html": [
       "<div>\n",
       "<style scoped>\n",
       "    .dataframe tbody tr th:only-of-type {\n",
       "        vertical-align: middle;\n",
       "    }\n",
       "\n",
       "    .dataframe tbody tr th {\n",
       "        vertical-align: top;\n",
       "    }\n",
       "\n",
       "    .dataframe thead th {\n",
       "        text-align: right;\n",
       "    }\n",
       "</style>\n",
       "<table border=\"1\" class=\"dataframe\">\n",
       "  <thead>\n",
       "    <tr style=\"text-align: right;\">\n",
       "      <th></th>\n",
       "      <th>id</th>\n",
       "      <th>discourse_id</th>\n",
       "      <th>discourse_type</th>\n",
       "      <th>discourse_type_num</th>\n",
       "      <th>discourse_start</th>\n",
       "      <th>discourse_end</th>\n",
       "      <th>discourse_text</th>\n",
       "      <th>predictionstring</th>\n",
       "    </tr>\n",
       "  </thead>\n",
       "  <tbody>\n",
       "    <tr>\n",
       "      <th>105905</th>\n",
       "      <td>71D3F6E61C14_S</td>\n",
       "      <td>1.620241e+12</td>\n",
       "      <td>Evidence</td>\n",
       "      <td>Evidence 1</td>\n",
       "      <td>212</td>\n",
       "      <td>389</td>\n",
       "      <td>Especially teens they would love the fact that...</td>\n",
       "      <td>36 37 38 39 40 41 42 43 44 45 46 47 48 49 50 5...</td>\n",
       "    </tr>\n",
       "    <tr>\n",
       "      <th>105907</th>\n",
       "      <td>71D3F6E61C14_S</td>\n",
       "      <td>1.620241e+12</td>\n",
       "      <td>Evidence</td>\n",
       "      <td>Evidence 2</td>\n",
       "      <td>543</td>\n",
       "      <td>621</td>\n",
       "      <td>they'll wait until a free time to call their t...</td>\n",
       "      <td>95 96 97 98 99 100 101 102 103 104 105 106 107...</td>\n",
       "    </tr>\n",
       "    <tr>\n",
       "      <th>105911</th>\n",
       "      <td>71D3F6E61C14_S</td>\n",
       "      <td>1.620241e+12</td>\n",
       "      <td>Evidence</td>\n",
       "      <td>Evidence 4</td>\n",
       "      <td>877</td>\n",
       "      <td>980</td>\n",
       "      <td>Instead of having their team worried sick abou...</td>\n",
       "      <td>157 158 159 160 161 162 163 164 165 166 167 16...</td>\n",
       "    </tr>\n",
       "    <tr>\n",
       "      <th>105912</th>\n",
       "      <td>71D3F6E61C14_S</td>\n",
       "      <td>1.620241e+12</td>\n",
       "      <td>Counterclaim</td>\n",
       "      <td>Counterclaim 1</td>\n",
       "      <td>982</td>\n",
       "      <td>1102</td>\n",
       "      <td>If you use policy 2 students will bring them a...</td>\n",
       "      <td>176 177 178 179 180 181 182 183 184 185 186 18...</td>\n",
       "    </tr>\n",
       "    <tr>\n",
       "      <th>105913</th>\n",
       "      <td>71D3F6E61C14_S</td>\n",
       "      <td>1.620241e+12</td>\n",
       "      <td>Rebuttal</td>\n",
       "      <td>Rebuttal 1</td>\n",
       "      <td>1104</td>\n",
       "      <td>1145</td>\n",
       "      <td>So let learn bring there phones to school.</td>\n",
       "      <td>200 201 202 203 204 205 206 207</td>\n",
       "    </tr>\n",
       "  </tbody>\n",
       "</table>\n",
       "</div>"
      ],
      "text/plain": [
       "                    id  discourse_id discourse_type discourse_type_num  \\\n",
       "105905  71D3F6E61C14_S  1.620241e+12       Evidence         Evidence 1   \n",
       "105907  71D3F6E61C14_S  1.620241e+12       Evidence         Evidence 2   \n",
       "105911  71D3F6E61C14_S  1.620241e+12       Evidence         Evidence 4   \n",
       "105912  71D3F6E61C14_S  1.620241e+12   Counterclaim     Counterclaim 1   \n",
       "105913  71D3F6E61C14_S  1.620241e+12       Rebuttal         Rebuttal 1   \n",
       "\n",
       "       discourse_start discourse_end  \\\n",
       "105905             212           389   \n",
       "105907             543           621   \n",
       "105911             877           980   \n",
       "105912             982          1102   \n",
       "105913            1104          1145   \n",
       "\n",
       "                                           discourse_text  \\\n",
       "105905  Especially teens they would love the fact that...   \n",
       "105907  they'll wait until a free time to call their t...   \n",
       "105911  Instead of having their team worried sick abou...   \n",
       "105912  If you use policy 2 students will bring them a...   \n",
       "105913         So let learn bring there phones to school.   \n",
       "\n",
       "                                         predictionstring  \n",
       "105905  36 37 38 39 40 41 42 43 44 45 46 47 48 49 50 5...  \n",
       "105907  95 96 97 98 99 100 101 102 103 104 105 106 107...  \n",
       "105911  157 158 159 160 161 162 163 164 165 166 167 16...  \n",
       "105912  176 177 178 179 180 181 182 183 184 185 186 18...  \n",
       "105913                    200 201 202 203 204 205 206 207  "
      ]
     },
     "execution_count": 34,
     "metadata": {},
     "output_type": "execute_result"
    }
   ],
   "source": [
    "new_df.to_csv(\"sample.csv\", index=False)"
   ]
  },
  {
   "cell_type": "code",
   "execution_count": null,
   "metadata": {},
   "outputs": [],
   "source": []
  }
 ],
 "metadata": {
  "interpreter": {
   "hash": "5aa82812c4681f8310f3f49363d12ac4c7be23abd4617d81f239e4ef56509db9"
  },
  "kernelspec": {
   "display_name": "Python 3.8.12 ('py38')",
   "language": "python",
   "name": "python3"
  },
  "language_info": {
   "codemirror_mode": {
    "name": "ipython",
    "version": 3
   },
   "file_extension": ".py",
   "mimetype": "text/x-python",
   "name": "python",
   "nbconvert_exporter": "python",
   "pygments_lexer": "ipython3",
   "version": "3.8.12"
  },
  "orig_nbformat": 4
 },
 "nbformat": 4,
 "nbformat_minor": 2
}
