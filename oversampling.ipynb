{
 "cells": [
  {
   "cell_type": "code",
   "execution_count": 1,
   "metadata": {},
   "outputs": [],
   "source": [
    "! pip3 install autocorrect -qq \n",
    "! pip install glove_python_binary | grep satistfied"
   ]
  },
  {
   "cell_type": "code",
   "execution_count": 15,
   "metadata": {},
   "outputs": [
    {
     "name": "stderr",
     "output_type": "stream",
     "text": [
      "[nltk_data] Downloading package averaged_perceptron_tagger to\n",
      "[nltk_data]     /Users/donggunseo/nltk_data...\n",
      "[nltk_data]   Package averaged_perceptron_tagger is already up-to-\n",
      "[nltk_data]       date!\n"
     ]
    },
    {
     "data": {
      "text/plain": [
       "True"
      ]
     },
     "execution_count": 15,
     "metadata": {},
     "output_type": "execute_result"
    }
   ],
   "source": [
    "from autocorrect import Speller\n",
    "import pandas as pd\n",
    "import numpy as np\n",
    "from tqdm import tqdm\n",
    "import os\n",
    "import random\n",
    "import re\n",
    "from numpy import dot\n",
    "from numpy.linalg import norm\n",
    "import nltk\n",
    "nltk.download('averaged_perceptron_tagger')"
   ]
  },
  {
   "cell_type": "code",
   "execution_count": 16,
   "metadata": {},
   "outputs": [],
   "source": [
    "BASE_DIR = \"../input/feedback-prize-2021/\"\n",
    "TRAIN_DIR = BASE_DIR + 'train'\n",
    "SAVE_DIR = BASE_DIR + 'train_oversamples'\n",
    "\n",
    "if not os.path.exists(SAVE_DIR):\n",
    "    os.mkdir(SAVE_DIR)"
   ]
  },
  {
   "cell_type": "code",
   "execution_count": 17,
   "metadata": {},
   "outputs": [
    {
     "data": {
      "text/html": [
       "<div>\n",
       "<style scoped>\n",
       "    .dataframe tbody tr th:only-of-type {\n",
       "        vertical-align: middle;\n",
       "    }\n",
       "\n",
       "    .dataframe tbody tr th {\n",
       "        vertical-align: top;\n",
       "    }\n",
       "\n",
       "    .dataframe thead th {\n",
       "        text-align: right;\n",
       "    }\n",
       "</style>\n",
       "<table border=\"1\" class=\"dataframe\">\n",
       "  <thead>\n",
       "    <tr style=\"text-align: right;\">\n",
       "      <th></th>\n",
       "      <th>Unnamed: 0</th>\n",
       "      <th>id</th>\n",
       "      <th>discourse_id</th>\n",
       "      <th>discourse_type</th>\n",
       "      <th>discourse_type_num</th>\n",
       "      <th>discourse_start</th>\n",
       "      <th>discourse_end</th>\n",
       "      <th>discourse_text</th>\n",
       "      <th>predictionstring</th>\n",
       "    </tr>\n",
       "  </thead>\n",
       "  <tbody>\n",
       "    <tr>\n",
       "      <th>0</th>\n",
       "      <td>0</td>\n",
       "      <td>423A1CA112E2</td>\n",
       "      <td>1.622628e+12</td>\n",
       "      <td>Lead</td>\n",
       "      <td>Lead 1</td>\n",
       "      <td>8</td>\n",
       "      <td>229</td>\n",
       "      <td>Modern humans today are always on their phone....</td>\n",
       "      <td>1 2 3 4 5 6 7 8 9 10 11 12 13 14 15 16 17 18 1...</td>\n",
       "    </tr>\n",
       "    <tr>\n",
       "      <th>1</th>\n",
       "      <td>1</td>\n",
       "      <td>423A1CA112E2</td>\n",
       "      <td>1.622628e+12</td>\n",
       "      <td>Position</td>\n",
       "      <td>Position 1</td>\n",
       "      <td>230</td>\n",
       "      <td>312</td>\n",
       "      <td>They are some really bad consequences when stu...</td>\n",
       "      <td>45 46 47 48 49 50 51 52 53 54 55 56 57 58 59</td>\n",
       "    </tr>\n",
       "    <tr>\n",
       "      <th>2</th>\n",
       "      <td>2</td>\n",
       "      <td>423A1CA112E2</td>\n",
       "      <td>1.622628e+12</td>\n",
       "      <td>Evidence</td>\n",
       "      <td>Evidence 1</td>\n",
       "      <td>313</td>\n",
       "      <td>400</td>\n",
       "      <td>Some certain areas in the United States ban ph...</td>\n",
       "      <td>60 61 62 63 64 65 66 67 68 69 70 71 72 73 74 75</td>\n",
       "    </tr>\n",
       "    <tr>\n",
       "      <th>3</th>\n",
       "      <td>3</td>\n",
       "      <td>423A1CA112E2</td>\n",
       "      <td>1.622628e+12</td>\n",
       "      <td>Evidence</td>\n",
       "      <td>Evidence 2</td>\n",
       "      <td>402</td>\n",
       "      <td>757</td>\n",
       "      <td>When people have phones, they know about certa...</td>\n",
       "      <td>76 77 78 79 80 81 82 83 84 85 86 87 88 89 90 9...</td>\n",
       "    </tr>\n",
       "    <tr>\n",
       "      <th>4</th>\n",
       "      <td>4</td>\n",
       "      <td>423A1CA112E2</td>\n",
       "      <td>1.622628e+12</td>\n",
       "      <td>Claim</td>\n",
       "      <td>Claim 1</td>\n",
       "      <td>759</td>\n",
       "      <td>886</td>\n",
       "      <td>Driving is one of the way how to get around. P...</td>\n",
       "      <td>139 140 141 142 143 144 145 146 147 148 149 15...</td>\n",
       "    </tr>\n",
       "  </tbody>\n",
       "</table>\n",
       "</div>"
      ],
      "text/plain": [
       "   Unnamed: 0            id  discourse_id discourse_type discourse_type_num  \\\n",
       "0           0  423A1CA112E2  1.622628e+12           Lead             Lead 1   \n",
       "1           1  423A1CA112E2  1.622628e+12       Position         Position 1   \n",
       "2           2  423A1CA112E2  1.622628e+12       Evidence         Evidence 1   \n",
       "3           3  423A1CA112E2  1.622628e+12       Evidence         Evidence 2   \n",
       "4           4  423A1CA112E2  1.622628e+12          Claim            Claim 1   \n",
       "\n",
       "   discourse_start  discourse_end  \\\n",
       "0                8            229   \n",
       "1              230            312   \n",
       "2              313            400   \n",
       "3              402            757   \n",
       "4              759            886   \n",
       "\n",
       "                                      discourse_text  \\\n",
       "0  Modern humans today are always on their phone....   \n",
       "1  They are some really bad consequences when stu...   \n",
       "2  Some certain areas in the United States ban ph...   \n",
       "3  When people have phones, they know about certa...   \n",
       "4  Driving is one of the way how to get around. P...   \n",
       "\n",
       "                                    predictionstring  \n",
       "0  1 2 3 4 5 6 7 8 9 10 11 12 13 14 15 16 17 18 1...  \n",
       "1       45 46 47 48 49 50 51 52 53 54 55 56 57 58 59  \n",
       "2    60 61 62 63 64 65 66 67 68 69 70 71 72 73 74 75  \n",
       "3  76 77 78 79 80 81 82 83 84 85 86 87 88 89 90 9...  \n",
       "4  139 140 141 142 143 144 145 146 147 148 149 15...  "
      ]
     },
     "execution_count": 17,
     "metadata": {},
     "output_type": "execute_result"
    }
   ],
   "source": [
    "DISCOURSE_TYPES = ['Rebuttal', 'Counterclaim', 'Lead', 'Concluding Statement', 'Claim', 'Position', 'Evidence']\n",
    "WEAK_DISCOURSE_TYPES = ['Rebuttal', 'Counterclaim']\n",
    "FULL_DISCOURSE_TYPES = ['Lead', 'Concluding Statement', 'Claim', 'Position', 'Evidence']\n",
    "\n",
    "\n",
    "df = pd.read_csv(BASE_DIR + \"train_corrected.csv\")      \n",
    "df.head()"
   ]
  },
  {
   "cell_type": "code",
   "execution_count": 18,
   "metadata": {},
   "outputs": [
    {
     "name": "stderr",
     "output_type": "stream",
     "text": [
      "100%|██████████| 15594/15594 [00:01<00:00, 8942.84it/s]\n"
     ]
    },
    {
     "data": {
      "text/html": [
       "<div>\n",
       "<style scoped>\n",
       "    .dataframe tbody tr th:only-of-type {\n",
       "        vertical-align: middle;\n",
       "    }\n",
       "\n",
       "    .dataframe tbody tr th {\n",
       "        vertical-align: top;\n",
       "    }\n",
       "\n",
       "    .dataframe thead th {\n",
       "        text-align: right;\n",
       "    }\n",
       "</style>\n",
       "<table border=\"1\" class=\"dataframe\">\n",
       "  <thead>\n",
       "    <tr style=\"text-align: right;\">\n",
       "      <th></th>\n",
       "      <th>id</th>\n",
       "      <th>text</th>\n",
       "    </tr>\n",
       "  </thead>\n",
       "  <tbody>\n",
       "    <tr>\n",
       "      <th>0</th>\n",
       "      <td>3321A3E87AD3</td>\n",
       "      <td>I do agree that some students would benefit fr...</td>\n",
       "    </tr>\n",
       "    <tr>\n",
       "      <th>1</th>\n",
       "      <td>DFEAEC512BAB</td>\n",
       "      <td>Should students design a summer project for sc...</td>\n",
       "    </tr>\n",
       "    <tr>\n",
       "      <th>2</th>\n",
       "      <td>2E4AFCD3987F</td>\n",
       "      <td>Dear State Senator\\n\\n,\\n\\nIn the ruels of vot...</td>\n",
       "    </tr>\n",
       "    <tr>\n",
       "      <th>3</th>\n",
       "      <td>EB6C2AF20BFE</td>\n",
       "      <td>People sometimes have a different opinion than...</td>\n",
       "    </tr>\n",
       "    <tr>\n",
       "      <th>4</th>\n",
       "      <td>A91A08E523D5</td>\n",
       "      <td>Dear senator,\\n\\nAs you know the Electoral Col...</td>\n",
       "    </tr>\n",
       "  </tbody>\n",
       "</table>\n",
       "</div>"
      ],
      "text/plain": [
       "             id                                               text\n",
       "0  3321A3E87AD3  I do agree that some students would benefit fr...\n",
       "1  DFEAEC512BAB  Should students design a summer project for sc...\n",
       "2  2E4AFCD3987F  Dear State Senator\\n\\n,\\n\\nIn the ruels of vot...\n",
       "3  EB6C2AF20BFE  People sometimes have a different opinion than...\n",
       "4  A91A08E523D5  Dear senator,\\n\\nAs you know the Electoral Col..."
      ]
     },
     "execution_count": 18,
     "metadata": {},
     "output_type": "execute_result"
    }
   ],
   "source": [
    "def open_txt():\n",
    "    train_names, train_texts = [], []\n",
    "    for f in tqdm(list(os.listdir(TRAIN_DIR))):\n",
    "        train_names.append(f.replace('.txt', ''))\n",
    "        train_texts.append(open('../input/feedback-prize-2021/train/' + f, 'r', encoding='utf-8').read())\n",
    "    train_text_df = pd.DataFrame({'id': train_names, 'text': train_texts})\n",
    "\n",
    "    return train_text_df\n",
    "\n",
    "train_text_df = open_txt()\n",
    "train_text_df.head()"
   ]
  },
  {
   "cell_type": "code",
   "execution_count": 19,
   "metadata": {},
   "outputs": [
    {
     "data": {
      "text/plain": [
       "Rebuttal                 3598\n",
       "Counterclaim             4576\n",
       "Lead                     9301\n",
       "Concluding Statement    13418\n",
       "Claim                   14927\n",
       "Position                15366\n",
       "Evidence                15550\n",
       "dtype: int64"
      ]
     },
     "execution_count": 19,
     "metadata": {},
     "output_type": "execute_result"
    }
   ],
   "source": [
    "X_ids = list(df['id'].unique())\n",
    "id2types = df.groupby('id')['discourse_type'].unique().to_dict()\n",
    "\n",
    "def train_ids2discourse_type_counts(X_ids):\n",
    "    \n",
    "    no_num = re.compile('[^0-9]')\n",
    "    type_count = dict([(dt, 0) for dt  in DISCOURSE_TYPES])\n",
    "    \n",
    "    for _id in X_ids:\n",
    "        for dt in id2types[_id]:\n",
    "            dt_name = \"\".join(no_num.findall(dt)).rstrip(\" \")\n",
    "            type_count[dt_name] += 1\n",
    "            \n",
    "    return pd.Series(type_count).sort_values()\n",
    "\n",
    "type_count = train_ids2discourse_type_counts(X_ids)\n",
    "type_count\n"
   ]
  },
  {
   "cell_type": "code",
   "execution_count": 20,
   "metadata": {},
   "outputs": [
    {
     "name": "stderr",
     "output_type": "stream",
     "text": [
      "  0%|          | 0/2 [00:00<?, ?it/s]"
     ]
    },
    {
     "name": "stdout",
     "output_type": "stream",
     "text": [
      "Rebuttal\n"
     ]
    },
    {
     "name": "stderr",
     "output_type": "stream",
     "text": [
      "100%|██████████| 2/2 [00:52<00:00, 26.34s/it]"
     ]
    },
    {
     "name": "stdout",
     "output_type": "stream",
     "text": [
      "Counterclaim\n"
     ]
    },
    {
     "name": "stderr",
     "output_type": "stream",
     "text": [
      "\n"
     ]
    }
   ],
   "source": [
    "FILL_TO = max(type_count)\n",
    "add_ids = []\n",
    "# Oversample to Maximum Sample Count\n",
    "for dt in tqdm(WEAK_DISCOURSE_TYPES):\n",
    "    print(dt)\n",
    "    # Get current Discourse Type Count\n",
    "    type_count = train_ids2discourse_type_counts(X_ids)\n",
    "    dt_sample_count = type_count[dt]\n",
    "    if dt_sample_count < FILL_TO:\n",
    "        while dt_sample_count < FILL_TO:\n",
    "            # Take Random ID\n",
    "            random_id = str(np.random.choice(X_ids, 1).squeeze())\n",
    "            if dt in id2types[random_id] :\n",
    "                X_ids.append(random_id)\n",
    "                add_ids.append(random_id)\n",
    "                dt_sample_count += 1"
   ]
  },
  {
   "cell_type": "code",
   "execution_count": 21,
   "metadata": {},
   "outputs": [
    {
     "name": "stdout",
     "output_type": "stream",
     "text": [
      "sampling id count : 11952\n",
      "MAX count : 15550\n"
     ]
    },
    {
     "data": {
      "text/plain": [
       "Rebuttal                15550\n",
       "Counterclaim            16518\n",
       "Lead                    17513\n",
       "Concluding Statement    24287\n",
       "Claim                   26513\n",
       "Position                27305\n",
       "Evidence                27471\n",
       "dtype: int64"
      ]
     },
     "execution_count": 21,
     "metadata": {},
     "output_type": "execute_result"
    }
   ],
   "source": [
    "print(\"sampling id count :\", len(add_ids))\n",
    "print(\"MAX count :\", FILL_TO)\n",
    "train_ids2discourse_type_counts(X_ids)"
   ]
  },
  {
   "cell_type": "code",
   "execution_count": 22,
   "metadata": {},
   "outputs": [],
   "source": [
    "def correct_misspelling(train_text):\n",
    "    correct_count = 0\n",
    "    spell = Speller(lang='en')\n",
    "    for idx, word in enumerate(train_text):\n",
    "        cor_word = spell(word)\n",
    "        if word != cor_word:\n",
    "            train_text[idx] = cor_word\n",
    "            correct_count += 1\n",
    "    return train_text, correct_count\n",
    "\n",
    "# txt = 'mismatch! so cannot oversampling this discorse tpye'\n",
    "# train_text = txt.split()\n",
    "# correct_misspelling(train_text)"
   ]
  },
  {
   "cell_type": "code",
   "execution_count": 23,
   "metadata": {},
   "outputs": [
    {
     "name": "stderr",
     "output_type": "stream",
     "text": [
      "100%|██████████| 400000/400000 [00:02<00:00, 189299.02it/s]"
     ]
    },
    {
     "name": "stdout",
     "output_type": "stream",
     "text": [
      "400000 words loaded!\n"
     ]
    },
    {
     "name": "stderr",
     "output_type": "stream",
     "text": [
      "\n"
     ]
    }
   ],
   "source": [
    "GLOVE_PATH = '../glove/glove.6B/glove.6B.50d.txt'\n",
    "with open(GLOVE_PATH, 'r') as f:\n",
    "    lines = f.readlines()\n",
    "glove_model = {}\n",
    "for line in tqdm(lines):\n",
    "    split_line = line.split()\n",
    "    word = split_line[0]\n",
    "    embedding = np.array(split_line[1:], dtype=np.float64)\n",
    "    glove_model[word] = embedding\n",
    "print(f\"{len(glove_model)} words loaded!\")"
   ]
  },
  {
   "cell_type": "code",
   "execution_count": 24,
   "metadata": {},
   "outputs": [],
   "source": [
    "def most_similar(word):\n",
    "    a = glove_model[word]\n",
    "    best = (None, 0.0)\n",
    "    for w, b in glove_model.items():\n",
    "        value = dot(a, b)/(norm(a)*norm(b))\n",
    "        if w != word and value > best[1]:\n",
    "            best = (w, value)\n",
    "    return best[0]"
   ]
  },
  {
   "cell_type": "code",
   "execution_count": 25,
   "metadata": {},
   "outputs": [],
   "source": [
    "def do_change(example, txt):\n",
    "    PUNCTUATION = set([\".\",\",\",\";\"])\n",
    "    ALLOW_POS_TAGS = ['JJ', 'JJR', 'JJS', 'NN', 'NNS', 'NNPS', 'RBR', 'RBS', 'VB', 'VBD', 'VBG']\n",
    "    \n",
    "    discourse_text = example['discourse_text'].split()\n",
    "    predictionstring = example['predictionstring'].split()\n",
    "    # train_text = example['text'].split()\n",
    "    train_text = txt.split()\n",
    "    \n",
    "    if len(discourse_text) != len(predictionstring):\n",
    "        print(\"mismatch! so cannot oversampling this discorse type\")\n",
    "        return \n",
    "    \n",
    "    # correct misspelling\n",
    "    train_text, correction_count = correct_misspelling(train_text)\n",
    "    \n",
    "    # synonym replacement\n",
    "    \n",
    "    is_replaced = False\n",
    "    while not is_replaced:\n",
    "        list_idx = int(np.random.choice(len(predictionstring), 1))\n",
    "        txt_idx = int(predictionstring[list_idx])\n",
    "        origin_word = discourse_text[list_idx]\n",
    "        \n",
    "        pos_tag = nltk.pos_tag([origin_word])[0][1]\n",
    "        if PUNCTUATION & set(list(origin_word)) or (origin_word not in glove_model.keys()) or (pos_tag not in ALLOW_POS_TAGS):\n",
    "            continue\n",
    "        \n",
    "        replace_word = most_similar(origin_word)\n",
    "        \n",
    "        train_text[txt_idx] = replace_word\n",
    "        discourse_text[list_idx] = replace_word\n",
    "        is_replaced = True\n",
    "            \n",
    "    example['predictionstring'] = example['predictionstring']\n",
    "    example['discourse_text'] = \" \".join(discourse_text)\n",
    "    txt = \" \".join(train_text)\n",
    "    \n",
    "    return example, txt, correction_count"
   ]
  },
  {
   "cell_type": "code",
   "execution_count": 26,
   "metadata": {},
   "outputs": [],
   "source": [
    "def oversamplig(df):\n",
    "    new_df = pd.DataFrame(columns=df.columns)\n",
    "    for id in tqdm(add_ids):\n",
    "        count = 0\n",
    "        new_id = \"{0}_S\".format(id)\n",
    "        \n",
    "        examples = df[df.id == id]          # id의 모든 discourse type 행을 추출\n",
    "        text = train_text_df[train_text_df.id == id]['text'].values[0]  # id에 맞는 원본 text를 로드\n",
    "        \n",
    "        for i, example in examples.iterrows(): \n",
    "            # id내 annotation된 discourse type을 살피면서 워드를 바꾼다.\n",
    "            # Rebuttal, Counterclaim인 경우, 무조건 바꿈\n",
    "            # 그외 타입인 경우, 확률적으로 바꿈.\n",
    "            #\n",
    "            # discourse type이 변경된 경우, df에 계속해서 추가한다.\n",
    "            # text는 모든 변경사항을 누적시키며, for문이 끝난 후 새로운 파일로 저장함.\n",
    "            new_example = example.copy()\n",
    "            if example['discourse_type'] in WEAK_DISCOURSE_TYPES:\n",
    "                new_example, text, correction_count = do_change(new_example, text)\n",
    "                count += 1\n",
    "                ## for debug\n",
    "                # print(example['discourse_type_num'])\n",
    "                # print(example['discourse_text'])\n",
    "                # print(new_example['discourse_text'])\n",
    "                # print(train_text_df[train_text_df.id == id].text.values[0])\n",
    "                # print(text)\n",
    "            else:\n",
    "                if random.random() > 0.8:\n",
    "                    new_example, text, correction_count = do_change(new_example, text)\n",
    "                    count += 1\n",
    "                    ## for debug\n",
    "                    # print(example['discourse_type_num'])\n",
    "                    # print(example['discourse_text'])\n",
    "                    # print(new_example['discourse_text'])\n",
    "                    # print(train_text_df[train_text_df.id == id].text.values[0])\n",
    "                    # print(text)\n",
    "                \n",
    "            new_example['id'] = new_id\n",
    "            new_df = new_df.append(new_example)\n",
    "            \n",
    "        # save txt \n",
    "        with open(SAVE_DIR+ '/{0}.txt'.format(new_id), 'w') as f:\n",
    "            f.write(text)\n",
    "            \n",
    "        print(\"new_id: {0} \\t Add {2} discourse types. (# of synonym raplacement: {3}, # of correction misspelling: {4}\".format(new_id, len(new_df), len(examples), count, correction_count))     \n",
    "    print(\"complete oversampling --  total new rows : \", len(new_df))         \n",
    "    return new_df\n",
    "                \n",
    "        "
   ]
  },
  {
   "cell_type": "code",
   "execution_count": 27,
   "metadata": {},
   "outputs": [
    {
     "name": "stdout",
     "output_type": "stream",
     "text": [
      "144293\n"
     ]
    },
    {
     "name": "stderr",
     "output_type": "stream",
     "text": [
      "  0%|          | 0/11952 [00:00<?, ?it/s]/var/folders/4j/bhx2_9854xg8pytz0rf9_lrr0000gn/T/ipykernel_14042/3809267968.py:39: FutureWarning: The frame.append method is deprecated and will be removed from pandas in a future version. Use pandas.concat instead.\n",
      "  new_df = new_df.append(new_example)\n",
      "/var/folders/4j/bhx2_9854xg8pytz0rf9_lrr0000gn/T/ipykernel_14042/3809267968.py:39: FutureWarning: The frame.append method is deprecated and will be removed from pandas in a future version. Use pandas.concat instead.\n",
      "  new_df = new_df.append(new_example)\n",
      "/var/folders/4j/bhx2_9854xg8pytz0rf9_lrr0000gn/T/ipykernel_14042/3809267968.py:39: FutureWarning: The frame.append method is deprecated and will be removed from pandas in a future version. Use pandas.concat instead.\n",
      "  new_df = new_df.append(new_example)\n",
      "/var/folders/4j/bhx2_9854xg8pytz0rf9_lrr0000gn/T/ipykernel_14042/3809267968.py:39: FutureWarning: The frame.append method is deprecated and will be removed from pandas in a future version. Use pandas.concat instead.\n",
      "  new_df = new_df.append(new_example)\n",
      "/var/folders/4j/bhx2_9854xg8pytz0rf9_lrr0000gn/T/ipykernel_14042/3809267968.py:39: FutureWarning: The frame.append method is deprecated and will be removed from pandas in a future version. Use pandas.concat instead.\n",
      "  new_df = new_df.append(new_example)\n",
      "/var/folders/4j/bhx2_9854xg8pytz0rf9_lrr0000gn/T/ipykernel_14042/3809267968.py:39: FutureWarning: The frame.append method is deprecated and will be removed from pandas in a future version. Use pandas.concat instead.\n",
      "  new_df = new_df.append(new_example)\n",
      "/var/folders/4j/bhx2_9854xg8pytz0rf9_lrr0000gn/T/ipykernel_14042/3809267968.py:39: FutureWarning: The frame.append method is deprecated and will be removed from pandas in a future version. Use pandas.concat instead.\n",
      "  new_df = new_df.append(new_example)\n",
      "/var/folders/4j/bhx2_9854xg8pytz0rf9_lrr0000gn/T/ipykernel_14042/3809267968.py:39: FutureWarning: The frame.append method is deprecated and will be removed from pandas in a future version. Use pandas.concat instead.\n",
      "  new_df = new_df.append(new_example)\n",
      "/var/folders/4j/bhx2_9854xg8pytz0rf9_lrr0000gn/T/ipykernel_14042/3809267968.py:39: FutureWarning: The frame.append method is deprecated and will be removed from pandas in a future version. Use pandas.concat instead.\n",
      "  new_df = new_df.append(new_example)\n",
      "/var/folders/4j/bhx2_9854xg8pytz0rf9_lrr0000gn/T/ipykernel_14042/3809267968.py:39: FutureWarning: The frame.append method is deprecated and will be removed from pandas in a future version. Use pandas.concat instead.\n",
      "  new_df = new_df.append(new_example)\n",
      "/var/folders/4j/bhx2_9854xg8pytz0rf9_lrr0000gn/T/ipykernel_14042/3809267968.py:39: FutureWarning: The frame.append method is deprecated and will be removed from pandas in a future version. Use pandas.concat instead.\n",
      "  new_df = new_df.append(new_example)\n",
      "/var/folders/4j/bhx2_9854xg8pytz0rf9_lrr0000gn/T/ipykernel_14042/3809267968.py:39: FutureWarning: The frame.append method is deprecated and will be removed from pandas in a future version. Use pandas.concat instead.\n",
      "  new_df = new_df.append(new_example)\n",
      "  0%|          | 1/11952 [00:08<28:22:56,  8.55s/it]/var/folders/4j/bhx2_9854xg8pytz0rf9_lrr0000gn/T/ipykernel_14042/3809267968.py:39: FutureWarning: The frame.append method is deprecated and will be removed from pandas in a future version. Use pandas.concat instead.\n",
      "  new_df = new_df.append(new_example)\n",
      "/var/folders/4j/bhx2_9854xg8pytz0rf9_lrr0000gn/T/ipykernel_14042/3809267968.py:39: FutureWarning: The frame.append method is deprecated and will be removed from pandas in a future version. Use pandas.concat instead.\n",
      "  new_df = new_df.append(new_example)\n",
      "/var/folders/4j/bhx2_9854xg8pytz0rf9_lrr0000gn/T/ipykernel_14042/3809267968.py:39: FutureWarning: The frame.append method is deprecated and will be removed from pandas in a future version. Use pandas.concat instead.\n",
      "  new_df = new_df.append(new_example)\n",
      "/var/folders/4j/bhx2_9854xg8pytz0rf9_lrr0000gn/T/ipykernel_14042/3809267968.py:39: FutureWarning: The frame.append method is deprecated and will be removed from pandas in a future version. Use pandas.concat instead.\n",
      "  new_df = new_df.append(new_example)\n"
     ]
    },
    {
     "name": "stdout",
     "output_type": "stream",
     "text": [
      "new_id: 9C6DAB936B71_S \t Add 12 discourse types. (# of synonym raplacement: 5, # of correction misspelling: 0\n"
     ]
    },
    {
     "name": "stderr",
     "output_type": "stream",
     "text": [
      "/var/folders/4j/bhx2_9854xg8pytz0rf9_lrr0000gn/T/ipykernel_14042/3809267968.py:39: FutureWarning: The frame.append method is deprecated and will be removed from pandas in a future version. Use pandas.concat instead.\n",
      "  new_df = new_df.append(new_example)\n",
      "/var/folders/4j/bhx2_9854xg8pytz0rf9_lrr0000gn/T/ipykernel_14042/3809267968.py:39: FutureWarning: The frame.append method is deprecated and will be removed from pandas in a future version. Use pandas.concat instead.\n",
      "  new_df = new_df.append(new_example)\n",
      "/var/folders/4j/bhx2_9854xg8pytz0rf9_lrr0000gn/T/ipykernel_14042/3809267968.py:39: FutureWarning: The frame.append method is deprecated and will be removed from pandas in a future version. Use pandas.concat instead.\n",
      "  new_df = new_df.append(new_example)\n",
      "/var/folders/4j/bhx2_9854xg8pytz0rf9_lrr0000gn/T/ipykernel_14042/3809267968.py:39: FutureWarning: The frame.append method is deprecated and will be removed from pandas in a future version. Use pandas.concat instead.\n",
      "  new_df = new_df.append(new_example)\n",
      "/var/folders/4j/bhx2_9854xg8pytz0rf9_lrr0000gn/T/ipykernel_14042/3809267968.py:39: FutureWarning: The frame.append method is deprecated and will be removed from pandas in a future version. Use pandas.concat instead.\n",
      "  new_df = new_df.append(new_example)\n",
      "/var/folders/4j/bhx2_9854xg8pytz0rf9_lrr0000gn/T/ipykernel_14042/3809267968.py:39: FutureWarning: The frame.append method is deprecated and will be removed from pandas in a future version. Use pandas.concat instead.\n",
      "  new_df = new_df.append(new_example)\n",
      "/var/folders/4j/bhx2_9854xg8pytz0rf9_lrr0000gn/T/ipykernel_14042/3809267968.py:39: FutureWarning: The frame.append method is deprecated and will be removed from pandas in a future version. Use pandas.concat instead.\n",
      "  new_df = new_df.append(new_example)\n",
      "/var/folders/4j/bhx2_9854xg8pytz0rf9_lrr0000gn/T/ipykernel_14042/3809267968.py:39: FutureWarning: The frame.append method is deprecated and will be removed from pandas in a future version. Use pandas.concat instead.\n",
      "  new_df = new_df.append(new_example)\n",
      "  0%|          | 2/11952 [00:17<28:35:58,  8.62s/it]/var/folders/4j/bhx2_9854xg8pytz0rf9_lrr0000gn/T/ipykernel_14042/3809267968.py:39: FutureWarning: The frame.append method is deprecated and will be removed from pandas in a future version. Use pandas.concat instead.\n",
      "  new_df = new_df.append(new_example)\n"
     ]
    },
    {
     "name": "stdout",
     "output_type": "stream",
     "text": [
      "new_id: 5DB50E75D92A_S \t Add 12 discourse types. (# of synonym raplacement: 5, # of correction misspelling: 0\n"
     ]
    },
    {
     "name": "stderr",
     "output_type": "stream",
     "text": [
      "/var/folders/4j/bhx2_9854xg8pytz0rf9_lrr0000gn/T/ipykernel_14042/3809267968.py:39: FutureWarning: The frame.append method is deprecated and will be removed from pandas in a future version. Use pandas.concat instead.\n",
      "  new_df = new_df.append(new_example)\n",
      "/var/folders/4j/bhx2_9854xg8pytz0rf9_lrr0000gn/T/ipykernel_14042/3809267968.py:39: FutureWarning: The frame.append method is deprecated and will be removed from pandas in a future version. Use pandas.concat instead.\n",
      "  new_df = new_df.append(new_example)\n",
      "/var/folders/4j/bhx2_9854xg8pytz0rf9_lrr0000gn/T/ipykernel_14042/3809267968.py:39: FutureWarning: The frame.append method is deprecated and will be removed from pandas in a future version. Use pandas.concat instead.\n",
      "  new_df = new_df.append(new_example)\n",
      "/var/folders/4j/bhx2_9854xg8pytz0rf9_lrr0000gn/T/ipykernel_14042/3809267968.py:39: FutureWarning: The frame.append method is deprecated and will be removed from pandas in a future version. Use pandas.concat instead.\n",
      "  new_df = new_df.append(new_example)\n",
      "/var/folders/4j/bhx2_9854xg8pytz0rf9_lrr0000gn/T/ipykernel_14042/3809267968.py:39: FutureWarning: The frame.append method is deprecated and will be removed from pandas in a future version. Use pandas.concat instead.\n",
      "  new_df = new_df.append(new_example)\n",
      "/var/folders/4j/bhx2_9854xg8pytz0rf9_lrr0000gn/T/ipykernel_14042/3809267968.py:39: FutureWarning: The frame.append method is deprecated and will be removed from pandas in a future version. Use pandas.concat instead.\n",
      "  new_df = new_df.append(new_example)\n",
      "/var/folders/4j/bhx2_9854xg8pytz0rf9_lrr0000gn/T/ipykernel_14042/3809267968.py:39: FutureWarning: The frame.append method is deprecated and will be removed from pandas in a future version. Use pandas.concat instead.\n",
      "  new_df = new_df.append(new_example)\n",
      "/var/folders/4j/bhx2_9854xg8pytz0rf9_lrr0000gn/T/ipykernel_14042/3809267968.py:39: FutureWarning: The frame.append method is deprecated and will be removed from pandas in a future version. Use pandas.concat instead.\n",
      "  new_df = new_df.append(new_example)\n",
      "/var/folders/4j/bhx2_9854xg8pytz0rf9_lrr0000gn/T/ipykernel_14042/3809267968.py:39: FutureWarning: The frame.append method is deprecated and will be removed from pandas in a future version. Use pandas.concat instead.\n",
      "  new_df = new_df.append(new_example)\n",
      "/var/folders/4j/bhx2_9854xg8pytz0rf9_lrr0000gn/T/ipykernel_14042/3809267968.py:39: FutureWarning: The frame.append method is deprecated and will be removed from pandas in a future version. Use pandas.concat instead.\n",
      "  new_df = new_df.append(new_example)\n",
      "  0%|          | 3/11952 [00:25<28:48:18,  8.68s/it]/var/folders/4j/bhx2_9854xg8pytz0rf9_lrr0000gn/T/ipykernel_14042/3809267968.py:39: FutureWarning: The frame.append method is deprecated and will be removed from pandas in a future version. Use pandas.concat instead.\n",
      "  new_df = new_df.append(new_example)\n",
      "/var/folders/4j/bhx2_9854xg8pytz0rf9_lrr0000gn/T/ipykernel_14042/3809267968.py:39: FutureWarning: The frame.append method is deprecated and will be removed from pandas in a future version. Use pandas.concat instead.\n",
      "  new_df = new_df.append(new_example)\n",
      "/var/folders/4j/bhx2_9854xg8pytz0rf9_lrr0000gn/T/ipykernel_14042/3809267968.py:39: FutureWarning: The frame.append method is deprecated and will be removed from pandas in a future version. Use pandas.concat instead.\n",
      "  new_df = new_df.append(new_example)\n",
      "/var/folders/4j/bhx2_9854xg8pytz0rf9_lrr0000gn/T/ipykernel_14042/3809267968.py:39: FutureWarning: The frame.append method is deprecated and will be removed from pandas in a future version. Use pandas.concat instead.\n",
      "  new_df = new_df.append(new_example)\n"
     ]
    },
    {
     "name": "stdout",
     "output_type": "stream",
     "text": [
      "new_id: 759AFC5BD52A_S \t Add 11 discourse types. (# of synonym raplacement: 5, # of correction misspelling: 0\n"
     ]
    },
    {
     "name": "stderr",
     "output_type": "stream",
     "text": [
      "/var/folders/4j/bhx2_9854xg8pytz0rf9_lrr0000gn/T/ipykernel_14042/3809267968.py:39: FutureWarning: The frame.append method is deprecated and will be removed from pandas in a future version. Use pandas.concat instead.\n",
      "  new_df = new_df.append(new_example)\n",
      "/var/folders/4j/bhx2_9854xg8pytz0rf9_lrr0000gn/T/ipykernel_14042/3809267968.py:39: FutureWarning: The frame.append method is deprecated and will be removed from pandas in a future version. Use pandas.concat instead.\n",
      "  new_df = new_df.append(new_example)\n",
      "/var/folders/4j/bhx2_9854xg8pytz0rf9_lrr0000gn/T/ipykernel_14042/3809267968.py:39: FutureWarning: The frame.append method is deprecated and will be removed from pandas in a future version. Use pandas.concat instead.\n",
      "  new_df = new_df.append(new_example)\n",
      "/var/folders/4j/bhx2_9854xg8pytz0rf9_lrr0000gn/T/ipykernel_14042/3809267968.py:39: FutureWarning: The frame.append method is deprecated and will be removed from pandas in a future version. Use pandas.concat instead.\n",
      "  new_df = new_df.append(new_example)\n",
      "/var/folders/4j/bhx2_9854xg8pytz0rf9_lrr0000gn/T/ipykernel_14042/3809267968.py:39: FutureWarning: The frame.append method is deprecated and will be removed from pandas in a future version. Use pandas.concat instead.\n",
      "  new_df = new_df.append(new_example)\n",
      "/var/folders/4j/bhx2_9854xg8pytz0rf9_lrr0000gn/T/ipykernel_14042/3809267968.py:39: FutureWarning: The frame.append method is deprecated and will be removed from pandas in a future version. Use pandas.concat instead.\n",
      "  new_df = new_df.append(new_example)\n",
      "/var/folders/4j/bhx2_9854xg8pytz0rf9_lrr0000gn/T/ipykernel_14042/3809267968.py:39: FutureWarning: The frame.append method is deprecated and will be removed from pandas in a future version. Use pandas.concat instead.\n",
      "  new_df = new_df.append(new_example)\n",
      "/var/folders/4j/bhx2_9854xg8pytz0rf9_lrr0000gn/T/ipykernel_14042/3809267968.py:39: FutureWarning: The frame.append method is deprecated and will be removed from pandas in a future version. Use pandas.concat instead.\n",
      "  new_df = new_df.append(new_example)\n",
      "/var/folders/4j/bhx2_9854xg8pytz0rf9_lrr0000gn/T/ipykernel_14042/3809267968.py:39: FutureWarning: The frame.append method is deprecated and will be removed from pandas in a future version. Use pandas.concat instead.\n",
      "  new_df = new_df.append(new_example)\n",
      "/var/folders/4j/bhx2_9854xg8pytz0rf9_lrr0000gn/T/ipykernel_14042/3809267968.py:39: FutureWarning: The frame.append method is deprecated and will be removed from pandas in a future version. Use pandas.concat instead.\n",
      "  new_df = new_df.append(new_example)\n",
      "/var/folders/4j/bhx2_9854xg8pytz0rf9_lrr0000gn/T/ipykernel_14042/3809267968.py:39: FutureWarning: The frame.append method is deprecated and will be removed from pandas in a future version. Use pandas.concat instead.\n",
      "  new_df = new_df.append(new_example)\n",
      "/var/folders/4j/bhx2_9854xg8pytz0rf9_lrr0000gn/T/ipykernel_14042/3809267968.py:39: FutureWarning: The frame.append method is deprecated and will be removed from pandas in a future version. Use pandas.concat instead.\n",
      "  new_df = new_df.append(new_example)\n",
      "/var/folders/4j/bhx2_9854xg8pytz0rf9_lrr0000gn/T/ipykernel_14042/3809267968.py:39: FutureWarning: The frame.append method is deprecated and will be removed from pandas in a future version. Use pandas.concat instead.\n",
      "  new_df = new_df.append(new_example)\n",
      "/var/folders/4j/bhx2_9854xg8pytz0rf9_lrr0000gn/T/ipykernel_14042/3809267968.py:39: FutureWarning: The frame.append method is deprecated and will be removed from pandas in a future version. Use pandas.concat instead.\n",
      "  new_df = new_df.append(new_example)\n",
      "  0%|          | 4/11952 [00:39<35:41:44, 10.76s/it]/var/folders/4j/bhx2_9854xg8pytz0rf9_lrr0000gn/T/ipykernel_14042/3809267968.py:39: FutureWarning: The frame.append method is deprecated and will be removed from pandas in a future version. Use pandas.concat instead.\n",
      "  new_df = new_df.append(new_example)\n",
      "/var/folders/4j/bhx2_9854xg8pytz0rf9_lrr0000gn/T/ipykernel_14042/3809267968.py:39: FutureWarning: The frame.append method is deprecated and will be removed from pandas in a future version. Use pandas.concat instead.\n",
      "  new_df = new_df.append(new_example)\n",
      "/var/folders/4j/bhx2_9854xg8pytz0rf9_lrr0000gn/T/ipykernel_14042/3809267968.py:39: FutureWarning: The frame.append method is deprecated and will be removed from pandas in a future version. Use pandas.concat instead.\n",
      "  new_df = new_df.append(new_example)\n",
      "/var/folders/4j/bhx2_9854xg8pytz0rf9_lrr0000gn/T/ipykernel_14042/3809267968.py:39: FutureWarning: The frame.append method is deprecated and will be removed from pandas in a future version. Use pandas.concat instead.\n",
      "  new_df = new_df.append(new_example)\n",
      "/var/folders/4j/bhx2_9854xg8pytz0rf9_lrr0000gn/T/ipykernel_14042/3809267968.py:39: FutureWarning: The frame.append method is deprecated and will be removed from pandas in a future version. Use pandas.concat instead.\n",
      "  new_df = new_df.append(new_example)\n",
      "/var/folders/4j/bhx2_9854xg8pytz0rf9_lrr0000gn/T/ipykernel_14042/3809267968.py:39: FutureWarning: The frame.append method is deprecated and will be removed from pandas in a future version. Use pandas.concat instead.\n",
      "  new_df = new_df.append(new_example)\n",
      "/var/folders/4j/bhx2_9854xg8pytz0rf9_lrr0000gn/T/ipykernel_14042/3809267968.py:39: FutureWarning: The frame.append method is deprecated and will be removed from pandas in a future version. Use pandas.concat instead.\n",
      "  new_df = new_df.append(new_example)\n",
      "/var/folders/4j/bhx2_9854xg8pytz0rf9_lrr0000gn/T/ipykernel_14042/3809267968.py:39: FutureWarning: The frame.append method is deprecated and will be removed from pandas in a future version. Use pandas.concat instead.\n",
      "  new_df = new_df.append(new_example)\n",
      "/var/folders/4j/bhx2_9854xg8pytz0rf9_lrr0000gn/T/ipykernel_14042/3809267968.py:39: FutureWarning: The frame.append method is deprecated and will be removed from pandas in a future version. Use pandas.concat instead.\n",
      "  new_df = new_df.append(new_example)\n"
     ]
    },
    {
     "name": "stdout",
     "output_type": "stream",
     "text": [
      "new_id: DAF339DC4E48_S \t Add 18 discourse types. (# of synonym raplacement: 7, # of correction misspelling: 0\n"
     ]
    },
    {
     "name": "stderr",
     "output_type": "stream",
     "text": [
      "/var/folders/4j/bhx2_9854xg8pytz0rf9_lrr0000gn/T/ipykernel_14042/3809267968.py:39: FutureWarning: The frame.append method is deprecated and will be removed from pandas in a future version. Use pandas.concat instead.\n",
      "  new_df = new_df.append(new_example)\n",
      "/var/folders/4j/bhx2_9854xg8pytz0rf9_lrr0000gn/T/ipykernel_14042/3809267968.py:39: FutureWarning: The frame.append method is deprecated and will be removed from pandas in a future version. Use pandas.concat instead.\n",
      "  new_df = new_df.append(new_example)\n",
      "/var/folders/4j/bhx2_9854xg8pytz0rf9_lrr0000gn/T/ipykernel_14042/3809267968.py:39: FutureWarning: The frame.append method is deprecated and will be removed from pandas in a future version. Use pandas.concat instead.\n",
      "  new_df = new_df.append(new_example)\n",
      "/var/folders/4j/bhx2_9854xg8pytz0rf9_lrr0000gn/T/ipykernel_14042/3809267968.py:39: FutureWarning: The frame.append method is deprecated and will be removed from pandas in a future version. Use pandas.concat instead.\n",
      "  new_df = new_df.append(new_example)\n",
      "/var/folders/4j/bhx2_9854xg8pytz0rf9_lrr0000gn/T/ipykernel_14042/3809267968.py:39: FutureWarning: The frame.append method is deprecated and will be removed from pandas in a future version. Use pandas.concat instead.\n",
      "  new_df = new_df.append(new_example)\n",
      "  0%|          | 5/11952 [00:45<28:57:46,  8.73s/it]/var/folders/4j/bhx2_9854xg8pytz0rf9_lrr0000gn/T/ipykernel_14042/3809267968.py:39: FutureWarning: The frame.append method is deprecated and will be removed from pandas in a future version. Use pandas.concat instead.\n",
      "  new_df = new_df.append(new_example)\n",
      "/var/folders/4j/bhx2_9854xg8pytz0rf9_lrr0000gn/T/ipykernel_14042/3809267968.py:39: FutureWarning: The frame.append method is deprecated and will be removed from pandas in a future version. Use pandas.concat instead.\n",
      "  new_df = new_df.append(new_example)\n",
      "/var/folders/4j/bhx2_9854xg8pytz0rf9_lrr0000gn/T/ipykernel_14042/3809267968.py:39: FutureWarning: The frame.append method is deprecated and will be removed from pandas in a future version. Use pandas.concat instead.\n",
      "  new_df = new_df.append(new_example)\n",
      "/var/folders/4j/bhx2_9854xg8pytz0rf9_lrr0000gn/T/ipykernel_14042/3809267968.py:39: FutureWarning: The frame.append method is deprecated and will be removed from pandas in a future version. Use pandas.concat instead.\n",
      "  new_df = new_df.append(new_example)\n",
      "/var/folders/4j/bhx2_9854xg8pytz0rf9_lrr0000gn/T/ipykernel_14042/3809267968.py:39: FutureWarning: The frame.append method is deprecated and will be removed from pandas in a future version. Use pandas.concat instead.\n",
      "  new_df = new_df.append(new_example)\n"
     ]
    },
    {
     "name": "stdout",
     "output_type": "stream",
     "text": [
      "new_id: B28CE3CD571D_S \t Add 14 discourse types. (# of synonym raplacement: 3, # of correction misspelling: 0\n"
     ]
    },
    {
     "name": "stderr",
     "output_type": "stream",
     "text": [
      "/var/folders/4j/bhx2_9854xg8pytz0rf9_lrr0000gn/T/ipykernel_14042/3809267968.py:39: FutureWarning: The frame.append method is deprecated and will be removed from pandas in a future version. Use pandas.concat instead.\n",
      "  new_df = new_df.append(new_example)\n",
      "/var/folders/4j/bhx2_9854xg8pytz0rf9_lrr0000gn/T/ipykernel_14042/3809267968.py:39: FutureWarning: The frame.append method is deprecated and will be removed from pandas in a future version. Use pandas.concat instead.\n",
      "  new_df = new_df.append(new_example)\n",
      "/var/folders/4j/bhx2_9854xg8pytz0rf9_lrr0000gn/T/ipykernel_14042/3809267968.py:39: FutureWarning: The frame.append method is deprecated and will be removed from pandas in a future version. Use pandas.concat instead.\n",
      "  new_df = new_df.append(new_example)\n",
      "  0%|          | 6/11952 [00:48<23:01:58,  6.94s/it]/var/folders/4j/bhx2_9854xg8pytz0rf9_lrr0000gn/T/ipykernel_14042/3809267968.py:39: FutureWarning: The frame.append method is deprecated and will be removed from pandas in a future version. Use pandas.concat instead.\n",
      "  new_df = new_df.append(new_example)\n"
     ]
    },
    {
     "name": "stdout",
     "output_type": "stream",
     "text": [
      "new_id: 839FBFBB7054_S \t Add 8 discourse types. (# of synonym raplacement: 2, # of correction misspelling: 0\n"
     ]
    },
    {
     "name": "stderr",
     "output_type": "stream",
     "text": [
      "/var/folders/4j/bhx2_9854xg8pytz0rf9_lrr0000gn/T/ipykernel_14042/3809267968.py:39: FutureWarning: The frame.append method is deprecated and will be removed from pandas in a future version. Use pandas.concat instead.\n",
      "  new_df = new_df.append(new_example)\n",
      "/var/folders/4j/bhx2_9854xg8pytz0rf9_lrr0000gn/T/ipykernel_14042/3809267968.py:39: FutureWarning: The frame.append method is deprecated and will be removed from pandas in a future version. Use pandas.concat instead.\n",
      "  new_df = new_df.append(new_example)\n",
      "/var/folders/4j/bhx2_9854xg8pytz0rf9_lrr0000gn/T/ipykernel_14042/3809267968.py:39: FutureWarning: The frame.append method is deprecated and will be removed from pandas in a future version. Use pandas.concat instead.\n",
      "  new_df = new_df.append(new_example)\n",
      "/var/folders/4j/bhx2_9854xg8pytz0rf9_lrr0000gn/T/ipykernel_14042/3809267968.py:39: FutureWarning: The frame.append method is deprecated and will be removed from pandas in a future version. Use pandas.concat instead.\n",
      "  new_df = new_df.append(new_example)\n",
      "/var/folders/4j/bhx2_9854xg8pytz0rf9_lrr0000gn/T/ipykernel_14042/3809267968.py:39: FutureWarning: The frame.append method is deprecated and will be removed from pandas in a future version. Use pandas.concat instead.\n",
      "  new_df = new_df.append(new_example)\n",
      "/var/folders/4j/bhx2_9854xg8pytz0rf9_lrr0000gn/T/ipykernel_14042/3809267968.py:39: FutureWarning: The frame.append method is deprecated and will be removed from pandas in a future version. Use pandas.concat instead.\n",
      "  new_df = new_df.append(new_example)\n",
      "/var/folders/4j/bhx2_9854xg8pytz0rf9_lrr0000gn/T/ipykernel_14042/3809267968.py:39: FutureWarning: The frame.append method is deprecated and will be removed from pandas in a future version. Use pandas.concat instead.\n",
      "  new_df = new_df.append(new_example)\n",
      "/var/folders/4j/bhx2_9854xg8pytz0rf9_lrr0000gn/T/ipykernel_14042/3809267968.py:39: FutureWarning: The frame.append method is deprecated and will be removed from pandas in a future version. Use pandas.concat instead.\n",
      "  new_df = new_df.append(new_example)\n",
      "/var/folders/4j/bhx2_9854xg8pytz0rf9_lrr0000gn/T/ipykernel_14042/3809267968.py:39: FutureWarning: The frame.append method is deprecated and will be removed from pandas in a future version. Use pandas.concat instead.\n",
      "  new_df = new_df.append(new_example)\n",
      "/var/folders/4j/bhx2_9854xg8pytz0rf9_lrr0000gn/T/ipykernel_14042/3809267968.py:39: FutureWarning: The frame.append method is deprecated and will be removed from pandas in a future version. Use pandas.concat instead.\n",
      "  new_df = new_df.append(new_example)\n",
      "/var/folders/4j/bhx2_9854xg8pytz0rf9_lrr0000gn/T/ipykernel_14042/3809267968.py:39: FutureWarning: The frame.append method is deprecated and will be removed from pandas in a future version. Use pandas.concat instead.\n",
      "  new_df = new_df.append(new_example)\n",
      "/var/folders/4j/bhx2_9854xg8pytz0rf9_lrr0000gn/T/ipykernel_14042/3809267968.py:39: FutureWarning: The frame.append method is deprecated and will be removed from pandas in a future version. Use pandas.concat instead.\n",
      "  new_df = new_df.append(new_example)\n",
      "/var/folders/4j/bhx2_9854xg8pytz0rf9_lrr0000gn/T/ipykernel_14042/3809267968.py:39: FutureWarning: The frame.append method is deprecated and will be removed from pandas in a future version. Use pandas.concat instead.\n",
      "  new_df = new_df.append(new_example)\n",
      "/var/folders/4j/bhx2_9854xg8pytz0rf9_lrr0000gn/T/ipykernel_14042/3809267968.py:39: FutureWarning: The frame.append method is deprecated and will be removed from pandas in a future version. Use pandas.concat instead.\n",
      "  new_df = new_df.append(new_example)\n",
      "  0%|          | 7/11952 [01:03<32:13:20,  9.71s/it]/var/folders/4j/bhx2_9854xg8pytz0rf9_lrr0000gn/T/ipykernel_14042/3809267968.py:39: FutureWarning: The frame.append method is deprecated and will be removed from pandas in a future version. Use pandas.concat instead.\n",
      "  new_df = new_df.append(new_example)\n",
      "/var/folders/4j/bhx2_9854xg8pytz0rf9_lrr0000gn/T/ipykernel_14042/3809267968.py:39: FutureWarning: The frame.append method is deprecated and will be removed from pandas in a future version. Use pandas.concat instead.\n",
      "  new_df = new_df.append(new_example)\n",
      "/var/folders/4j/bhx2_9854xg8pytz0rf9_lrr0000gn/T/ipykernel_14042/3809267968.py:39: FutureWarning: The frame.append method is deprecated and will be removed from pandas in a future version. Use pandas.concat instead.\n",
      "  new_df = new_df.append(new_example)\n",
      "/var/folders/4j/bhx2_9854xg8pytz0rf9_lrr0000gn/T/ipykernel_14042/3809267968.py:39: FutureWarning: The frame.append method is deprecated and will be removed from pandas in a future version. Use pandas.concat instead.\n",
      "  new_df = new_df.append(new_example)\n"
     ]
    },
    {
     "name": "stdout",
     "output_type": "stream",
     "text": [
      "new_id: 0F1B167D414E_S \t Add 15 discourse types. (# of synonym raplacement: 9, # of correction misspelling: 0\n"
     ]
    },
    {
     "name": "stderr",
     "output_type": "stream",
     "text": [
      "/var/folders/4j/bhx2_9854xg8pytz0rf9_lrr0000gn/T/ipykernel_14042/3809267968.py:39: FutureWarning: The frame.append method is deprecated and will be removed from pandas in a future version. Use pandas.concat instead.\n",
      "  new_df = new_df.append(new_example)\n",
      "/var/folders/4j/bhx2_9854xg8pytz0rf9_lrr0000gn/T/ipykernel_14042/3809267968.py:39: FutureWarning: The frame.append method is deprecated and will be removed from pandas in a future version. Use pandas.concat instead.\n",
      "  new_df = new_df.append(new_example)\n",
      "/var/folders/4j/bhx2_9854xg8pytz0rf9_lrr0000gn/T/ipykernel_14042/3809267968.py:39: FutureWarning: The frame.append method is deprecated and will be removed from pandas in a future version. Use pandas.concat instead.\n",
      "  new_df = new_df.append(new_example)\n",
      "/var/folders/4j/bhx2_9854xg8pytz0rf9_lrr0000gn/T/ipykernel_14042/3809267968.py:39: FutureWarning: The frame.append method is deprecated and will be removed from pandas in a future version. Use pandas.concat instead.\n",
      "  new_df = new_df.append(new_example)\n",
      "/var/folders/4j/bhx2_9854xg8pytz0rf9_lrr0000gn/T/ipykernel_14042/3809267968.py:39: FutureWarning: The frame.append method is deprecated and will be removed from pandas in a future version. Use pandas.concat instead.\n",
      "  new_df = new_df.append(new_example)\n",
      "  0%|          | 8/11952 [01:10<29:14:43,  8.81s/it]/var/folders/4j/bhx2_9854xg8pytz0rf9_lrr0000gn/T/ipykernel_14042/3809267968.py:39: FutureWarning: The frame.append method is deprecated and will be removed from pandas in a future version. Use pandas.concat instead.\n",
      "  new_df = new_df.append(new_example)\n",
      "/var/folders/4j/bhx2_9854xg8pytz0rf9_lrr0000gn/T/ipykernel_14042/3809267968.py:39: FutureWarning: The frame.append method is deprecated and will be removed from pandas in a future version. Use pandas.concat instead.\n",
      "  new_df = new_df.append(new_example)\n",
      "/var/folders/4j/bhx2_9854xg8pytz0rf9_lrr0000gn/T/ipykernel_14042/3809267968.py:39: FutureWarning: The frame.append method is deprecated and will be removed from pandas in a future version. Use pandas.concat instead.\n",
      "  new_df = new_df.append(new_example)\n"
     ]
    },
    {
     "name": "stdout",
     "output_type": "stream",
     "text": [
      "new_id: 3983417BC709_S \t Add 9 discourse types. (# of synonym raplacement: 4, # of correction misspelling: 0\n"
     ]
    },
    {
     "name": "stderr",
     "output_type": "stream",
     "text": [
      "/var/folders/4j/bhx2_9854xg8pytz0rf9_lrr0000gn/T/ipykernel_14042/3809267968.py:39: FutureWarning: The frame.append method is deprecated and will be removed from pandas in a future version. Use pandas.concat instead.\n",
      "  new_df = new_df.append(new_example)\n",
      "/var/folders/4j/bhx2_9854xg8pytz0rf9_lrr0000gn/T/ipykernel_14042/3809267968.py:39: FutureWarning: The frame.append method is deprecated and will be removed from pandas in a future version. Use pandas.concat instead.\n",
      "  new_df = new_df.append(new_example)\n",
      "/var/folders/4j/bhx2_9854xg8pytz0rf9_lrr0000gn/T/ipykernel_14042/3809267968.py:39: FutureWarning: The frame.append method is deprecated and will be removed from pandas in a future version. Use pandas.concat instead.\n",
      "  new_df = new_df.append(new_example)\n",
      "/var/folders/4j/bhx2_9854xg8pytz0rf9_lrr0000gn/T/ipykernel_14042/3809267968.py:39: FutureWarning: The frame.append method is deprecated and will be removed from pandas in a future version. Use pandas.concat instead.\n",
      "  new_df = new_df.append(new_example)\n",
      "/var/folders/4j/bhx2_9854xg8pytz0rf9_lrr0000gn/T/ipykernel_14042/3809267968.py:39: FutureWarning: The frame.append method is deprecated and will be removed from pandas in a future version. Use pandas.concat instead.\n",
      "  new_df = new_df.append(new_example)\n",
      "/var/folders/4j/bhx2_9854xg8pytz0rf9_lrr0000gn/T/ipykernel_14042/3809267968.py:39: FutureWarning: The frame.append method is deprecated and will be removed from pandas in a future version. Use pandas.concat instead.\n",
      "  new_df = new_df.append(new_example)\n",
      "/var/folders/4j/bhx2_9854xg8pytz0rf9_lrr0000gn/T/ipykernel_14042/3809267968.py:39: FutureWarning: The frame.append method is deprecated and will be removed from pandas in a future version. Use pandas.concat instead.\n",
      "  new_df = new_df.append(new_example)\n",
      "/var/folders/4j/bhx2_9854xg8pytz0rf9_lrr0000gn/T/ipykernel_14042/3809267968.py:39: FutureWarning: The frame.append method is deprecated and will be removed from pandas in a future version. Use pandas.concat instead.\n",
      "  new_df = new_df.append(new_example)\n",
      "/var/folders/4j/bhx2_9854xg8pytz0rf9_lrr0000gn/T/ipykernel_14042/3809267968.py:39: FutureWarning: The frame.append method is deprecated and will be removed from pandas in a future version. Use pandas.concat instead.\n",
      "  new_df = new_df.append(new_example)\n",
      "/var/folders/4j/bhx2_9854xg8pytz0rf9_lrr0000gn/T/ipykernel_14042/3809267968.py:39: FutureWarning: The frame.append method is deprecated and will be removed from pandas in a future version. Use pandas.concat instead.\n",
      "  new_df = new_df.append(new_example)\n",
      "/var/folders/4j/bhx2_9854xg8pytz0rf9_lrr0000gn/T/ipykernel_14042/3809267968.py:39: FutureWarning: The frame.append method is deprecated and will be removed from pandas in a future version. Use pandas.concat instead.\n",
      "  new_df = new_df.append(new_example)\n",
      "  0%|          | 9/11952 [01:19<28:55:23,  8.72s/it]/var/folders/4j/bhx2_9854xg8pytz0rf9_lrr0000gn/T/ipykernel_14042/3809267968.py:39: FutureWarning: The frame.append method is deprecated and will be removed from pandas in a future version. Use pandas.concat instead.\n",
      "  new_df = new_df.append(new_example)\n",
      "/var/folders/4j/bhx2_9854xg8pytz0rf9_lrr0000gn/T/ipykernel_14042/3809267968.py:39: FutureWarning: The frame.append method is deprecated and will be removed from pandas in a future version. Use pandas.concat instead.\n",
      "  new_df = new_df.append(new_example)\n"
     ]
    },
    {
     "name": "stdout",
     "output_type": "stream",
     "text": [
      "new_id: 1F51352E0E5F_S \t Add 14 discourse types. (# of synonym raplacement: 5, # of correction misspelling: 0\n"
     ]
    },
    {
     "name": "stderr",
     "output_type": "stream",
     "text": [
      "/var/folders/4j/bhx2_9854xg8pytz0rf9_lrr0000gn/T/ipykernel_14042/3809267968.py:39: FutureWarning: The frame.append method is deprecated and will be removed from pandas in a future version. Use pandas.concat instead.\n",
      "  new_df = new_df.append(new_example)\n",
      "/var/folders/4j/bhx2_9854xg8pytz0rf9_lrr0000gn/T/ipykernel_14042/3809267968.py:39: FutureWarning: The frame.append method is deprecated and will be removed from pandas in a future version. Use pandas.concat instead.\n",
      "  new_df = new_df.append(new_example)\n",
      "/var/folders/4j/bhx2_9854xg8pytz0rf9_lrr0000gn/T/ipykernel_14042/3809267968.py:39: FutureWarning: The frame.append method is deprecated and will be removed from pandas in a future version. Use pandas.concat instead.\n",
      "  new_df = new_df.append(new_example)\n",
      "/var/folders/4j/bhx2_9854xg8pytz0rf9_lrr0000gn/T/ipykernel_14042/3809267968.py:39: FutureWarning: The frame.append method is deprecated and will be removed from pandas in a future version. Use pandas.concat instead.\n",
      "  new_df = new_df.append(new_example)\n",
      "/var/folders/4j/bhx2_9854xg8pytz0rf9_lrr0000gn/T/ipykernel_14042/3809267968.py:39: FutureWarning: The frame.append method is deprecated and will be removed from pandas in a future version. Use pandas.concat instead.\n",
      "  new_df = new_df.append(new_example)\n",
      "/var/folders/4j/bhx2_9854xg8pytz0rf9_lrr0000gn/T/ipykernel_14042/3809267968.py:39: FutureWarning: The frame.append method is deprecated and will be removed from pandas in a future version. Use pandas.concat instead.\n",
      "  new_df = new_df.append(new_example)\n",
      "/var/folders/4j/bhx2_9854xg8pytz0rf9_lrr0000gn/T/ipykernel_14042/3809267968.py:39: FutureWarning: The frame.append method is deprecated and will be removed from pandas in a future version. Use pandas.concat instead.\n",
      "  new_df = new_df.append(new_example)\n",
      "/var/folders/4j/bhx2_9854xg8pytz0rf9_lrr0000gn/T/ipykernel_14042/3809267968.py:39: FutureWarning: The frame.append method is deprecated and will be removed from pandas in a future version. Use pandas.concat instead.\n",
      "  new_df = new_df.append(new_example)\n",
      "  0%|          | 9/11952 [14:44<325:52:27, 98.23s/it]\n"
     ]
    },
    {
     "ename": "KeyboardInterrupt",
     "evalue": "",
     "output_type": "error",
     "traceback": [
      "\u001b[0;31m---------------------------------------------------------------------------\u001b[0m",
      "\u001b[0;31mKeyboardInterrupt\u001b[0m                         Traceback (most recent call last)",
      "\u001b[1;32m/Users/donggunseo/sdg/SCI-Kaggle/oversampling.ipynb Cell 14'\u001b[0m in \u001b[0;36m<module>\u001b[0;34m\u001b[0m\n\u001b[1;32m      <a href='vscode-notebook-cell:/Users/donggunseo/sdg/SCI-Kaggle/oversampling.ipynb#ch0000013?line=0'>1</a>\u001b[0m new_df \u001b[39m=\u001b[39m df\u001b[39m.\u001b[39mcopy()\n\u001b[1;32m      <a href='vscode-notebook-cell:/Users/donggunseo/sdg/SCI-Kaggle/oversampling.ipynb#ch0000013?line=1'>2</a>\u001b[0m \u001b[39mprint\u001b[39m(\u001b[39mlen\u001b[39m(new_df))\n\u001b[0;32m----> <a href='vscode-notebook-cell:/Users/donggunseo/sdg/SCI-Kaggle/oversampling.ipynb#ch0000013?line=2'>3</a>\u001b[0m new_df \u001b[39m=\u001b[39m oversamplig(new_df)\n",
      "\u001b[1;32m/Users/donggunseo/sdg/SCI-Kaggle/oversampling.ipynb Cell 13'\u001b[0m in \u001b[0;36moversamplig\u001b[0;34m(df)\u001b[0m\n\u001b[1;32m     <a href='vscode-notebook-cell:/Users/donggunseo/sdg/SCI-Kaggle/oversampling.ipynb#ch0000012?line=16'>17</a>\u001b[0m new_example \u001b[39m=\u001b[39m example\u001b[39m.\u001b[39mcopy()\n\u001b[1;32m     <a href='vscode-notebook-cell:/Users/donggunseo/sdg/SCI-Kaggle/oversampling.ipynb#ch0000012?line=17'>18</a>\u001b[0m \u001b[39mif\u001b[39;00m example[\u001b[39m'\u001b[39m\u001b[39mdiscourse_type\u001b[39m\u001b[39m'\u001b[39m] \u001b[39min\u001b[39;00m WEAK_DISCOURSE_TYPES:\n\u001b[0;32m---> <a href='vscode-notebook-cell:/Users/donggunseo/sdg/SCI-Kaggle/oversampling.ipynb#ch0000012?line=18'>19</a>\u001b[0m     new_example, text, correction_count \u001b[39m=\u001b[39m do_change(new_example, text)\n\u001b[1;32m     <a href='vscode-notebook-cell:/Users/donggunseo/sdg/SCI-Kaggle/oversampling.ipynb#ch0000012?line=19'>20</a>\u001b[0m     count \u001b[39m+\u001b[39m\u001b[39m=\u001b[39m \u001b[39m1\u001b[39m\n\u001b[1;32m     <a href='vscode-notebook-cell:/Users/donggunseo/sdg/SCI-Kaggle/oversampling.ipynb#ch0000012?line=20'>21</a>\u001b[0m     \u001b[39m## for debug\u001b[39;00m\n\u001b[1;32m     <a href='vscode-notebook-cell:/Users/donggunseo/sdg/SCI-Kaggle/oversampling.ipynb#ch0000012?line=21'>22</a>\u001b[0m     \u001b[39m# print(example['discourse_type_num'])\u001b[39;00m\n\u001b[1;32m     <a href='vscode-notebook-cell:/Users/donggunseo/sdg/SCI-Kaggle/oversampling.ipynb#ch0000012?line=22'>23</a>\u001b[0m     \u001b[39m# print(example['discourse_text'])\u001b[39;00m\n\u001b[0;32m   (...)\u001b[0m\n\u001b[1;32m     <a href='vscode-notebook-cell:/Users/donggunseo/sdg/SCI-Kaggle/oversampling.ipynb#ch0000012?line=25'>26</a>\u001b[0m     \u001b[39m# print(text)\u001b[39;00m\n\u001b[1;32m     <a href='vscode-notebook-cell:/Users/donggunseo/sdg/SCI-Kaggle/oversampling.ipynb#ch0000012?line=26'>27</a>\u001b[0m \u001b[39melse\u001b[39;00m:\n",
      "\u001b[1;32m/Users/donggunseo/sdg/SCI-Kaggle/oversampling.ipynb Cell 12'\u001b[0m in \u001b[0;36mdo_change\u001b[0;34m(example, txt)\u001b[0m\n\u001b[1;32m     <a href='vscode-notebook-cell:/Users/donggunseo/sdg/SCI-Kaggle/oversampling.ipynb#ch0000011?line=21'>22</a>\u001b[0m txt_idx \u001b[39m=\u001b[39m \u001b[39mint\u001b[39m(predictionstring[list_idx])\n\u001b[1;32m     <a href='vscode-notebook-cell:/Users/donggunseo/sdg/SCI-Kaggle/oversampling.ipynb#ch0000011?line=22'>23</a>\u001b[0m origin_word \u001b[39m=\u001b[39m discourse_text[list_idx]\n\u001b[0;32m---> <a href='vscode-notebook-cell:/Users/donggunseo/sdg/SCI-Kaggle/oversampling.ipynb#ch0000011?line=24'>25</a>\u001b[0m pos_tag \u001b[39m=\u001b[39m nltk\u001b[39m.\u001b[39;49mpos_tag([origin_word])[\u001b[39m0\u001b[39m][\u001b[39m1\u001b[39m]\n\u001b[1;32m     <a href='vscode-notebook-cell:/Users/donggunseo/sdg/SCI-Kaggle/oversampling.ipynb#ch0000011?line=25'>26</a>\u001b[0m \u001b[39mif\u001b[39;00m PUNCTUATION \u001b[39m&\u001b[39m \u001b[39mset\u001b[39m(\u001b[39mlist\u001b[39m(origin_word)) \u001b[39mor\u001b[39;00m (origin_word \u001b[39mnot\u001b[39;00m \u001b[39min\u001b[39;00m glove_model\u001b[39m.\u001b[39mkeys()) \u001b[39mor\u001b[39;00m (pos_tag \u001b[39mnot\u001b[39;00m \u001b[39min\u001b[39;00m ALLOW_POS_TAGS):\n\u001b[1;32m     <a href='vscode-notebook-cell:/Users/donggunseo/sdg/SCI-Kaggle/oversampling.ipynb#ch0000011?line=26'>27</a>\u001b[0m     \u001b[39mcontinue\u001b[39;00m\n",
      "File \u001b[0;32m/opt/homebrew/Caskroom/miniforge/base/envs/torch/lib/python3.9/site-packages/nltk/tag/__init__.py:165\u001b[0m, in \u001b[0;36mpos_tag\u001b[0;34m(tokens, tagset, lang)\u001b[0m\n\u001b[1;32m    <a href='file:///opt/homebrew/Caskroom/miniforge/base/envs/torch/lib/python3.9/site-packages/nltk/tag/__init__.py?line=139'>140</a>\u001b[0m \u001b[39mdef\u001b[39;00m \u001b[39mpos_tag\u001b[39m(tokens, tagset\u001b[39m=\u001b[39m\u001b[39mNone\u001b[39;00m, lang\u001b[39m=\u001b[39m\u001b[39m\"\u001b[39m\u001b[39meng\u001b[39m\u001b[39m\"\u001b[39m):\n\u001b[1;32m    <a href='file:///opt/homebrew/Caskroom/miniforge/base/envs/torch/lib/python3.9/site-packages/nltk/tag/__init__.py?line=140'>141</a>\u001b[0m     \u001b[39m\"\"\"\u001b[39;00m\n\u001b[1;32m    <a href='file:///opt/homebrew/Caskroom/miniforge/base/envs/torch/lib/python3.9/site-packages/nltk/tag/__init__.py?line=141'>142</a>\u001b[0m \u001b[39m    Use NLTK's currently recommended part of speech tagger to\u001b[39;00m\n\u001b[1;32m    <a href='file:///opt/homebrew/Caskroom/miniforge/base/envs/torch/lib/python3.9/site-packages/nltk/tag/__init__.py?line=142'>143</a>\u001b[0m \u001b[39m    tag the given list of tokens.\u001b[39;00m\n\u001b[0;32m   (...)\u001b[0m\n\u001b[1;32m    <a href='file:///opt/homebrew/Caskroom/miniforge/base/envs/torch/lib/python3.9/site-packages/nltk/tag/__init__.py?line=162'>163</a>\u001b[0m \u001b[39m    :rtype: list(tuple(str, str))\u001b[39;00m\n\u001b[1;32m    <a href='file:///opt/homebrew/Caskroom/miniforge/base/envs/torch/lib/python3.9/site-packages/nltk/tag/__init__.py?line=163'>164</a>\u001b[0m \u001b[39m    \"\"\"\u001b[39;00m\n\u001b[0;32m--> <a href='file:///opt/homebrew/Caskroom/miniforge/base/envs/torch/lib/python3.9/site-packages/nltk/tag/__init__.py?line=164'>165</a>\u001b[0m     tagger \u001b[39m=\u001b[39m _get_tagger(lang)\n\u001b[1;32m    <a href='file:///opt/homebrew/Caskroom/miniforge/base/envs/torch/lib/python3.9/site-packages/nltk/tag/__init__.py?line=165'>166</a>\u001b[0m     \u001b[39mreturn\u001b[39;00m _pos_tag(tokens, tagset, tagger, lang)\n",
      "File \u001b[0;32m/opt/homebrew/Caskroom/miniforge/base/envs/torch/lib/python3.9/site-packages/nltk/tag/__init__.py:107\u001b[0m, in \u001b[0;36m_get_tagger\u001b[0;34m(lang)\u001b[0m\n\u001b[1;32m    <a href='file:///opt/homebrew/Caskroom/miniforge/base/envs/torch/lib/python3.9/site-packages/nltk/tag/__init__.py?line=104'>105</a>\u001b[0m     tagger\u001b[39m.\u001b[39mload(ap_russian_model_loc)\n\u001b[1;32m    <a href='file:///opt/homebrew/Caskroom/miniforge/base/envs/torch/lib/python3.9/site-packages/nltk/tag/__init__.py?line=105'>106</a>\u001b[0m \u001b[39melse\u001b[39;00m:\n\u001b[0;32m--> <a href='file:///opt/homebrew/Caskroom/miniforge/base/envs/torch/lib/python3.9/site-packages/nltk/tag/__init__.py?line=106'>107</a>\u001b[0m     tagger \u001b[39m=\u001b[39m PerceptronTagger()\n\u001b[1;32m    <a href='file:///opt/homebrew/Caskroom/miniforge/base/envs/torch/lib/python3.9/site-packages/nltk/tag/__init__.py?line=107'>108</a>\u001b[0m \u001b[39mreturn\u001b[39;00m tagger\n",
      "File \u001b[0;32m/opt/homebrew/Caskroom/miniforge/base/envs/torch/lib/python3.9/site-packages/nltk/tag/perceptron.py:167\u001b[0m, in \u001b[0;36mPerceptronTagger.__init__\u001b[0;34m(self, load)\u001b[0m\n\u001b[1;32m    <a href='file:///opt/homebrew/Caskroom/miniforge/base/envs/torch/lib/python3.9/site-packages/nltk/tag/perceptron.py?line=163'>164</a>\u001b[0m \u001b[39mself\u001b[39m\u001b[39m.\u001b[39mclasses \u001b[39m=\u001b[39m \u001b[39mset\u001b[39m()\n\u001b[1;32m    <a href='file:///opt/homebrew/Caskroom/miniforge/base/envs/torch/lib/python3.9/site-packages/nltk/tag/perceptron.py?line=164'>165</a>\u001b[0m \u001b[39mif\u001b[39;00m load:\n\u001b[1;32m    <a href='file:///opt/homebrew/Caskroom/miniforge/base/envs/torch/lib/python3.9/site-packages/nltk/tag/perceptron.py?line=165'>166</a>\u001b[0m     AP_MODEL_LOC \u001b[39m=\u001b[39m \u001b[39m\"\u001b[39m\u001b[39mfile:\u001b[39m\u001b[39m\"\u001b[39m \u001b[39m+\u001b[39m \u001b[39mstr\u001b[39m(\n\u001b[0;32m--> <a href='file:///opt/homebrew/Caskroom/miniforge/base/envs/torch/lib/python3.9/site-packages/nltk/tag/perceptron.py?line=166'>167</a>\u001b[0m         find(\u001b[39m\"\u001b[39;49m\u001b[39mtaggers/averaged_perceptron_tagger/\u001b[39;49m\u001b[39m\"\u001b[39;49m \u001b[39m+\u001b[39;49m PICKLE)\n\u001b[1;32m    <a href='file:///opt/homebrew/Caskroom/miniforge/base/envs/torch/lib/python3.9/site-packages/nltk/tag/perceptron.py?line=167'>168</a>\u001b[0m     )\n\u001b[1;32m    <a href='file:///opt/homebrew/Caskroom/miniforge/base/envs/torch/lib/python3.9/site-packages/nltk/tag/perceptron.py?line=168'>169</a>\u001b[0m     \u001b[39mself\u001b[39m\u001b[39m.\u001b[39mload(AP_MODEL_LOC)\n",
      "File \u001b[0;32m/opt/homebrew/Caskroom/miniforge/base/envs/torch/lib/python3.9/site-packages/nltk/data.py:522\u001b[0m, in \u001b[0;36mfind\u001b[0;34m(resource_name, paths)\u001b[0m\n\u001b[1;32m    <a href='file:///opt/homebrew/Caskroom/miniforge/base/envs/torch/lib/python3.9/site-packages/nltk/data.py?line=518'>519</a>\u001b[0m \u001b[39m# Check each item in our path\u001b[39;00m\n\u001b[1;32m    <a href='file:///opt/homebrew/Caskroom/miniforge/base/envs/torch/lib/python3.9/site-packages/nltk/data.py?line=519'>520</a>\u001b[0m \u001b[39mfor\u001b[39;00m path_ \u001b[39min\u001b[39;00m paths:\n\u001b[1;32m    <a href='file:///opt/homebrew/Caskroom/miniforge/base/envs/torch/lib/python3.9/site-packages/nltk/data.py?line=520'>521</a>\u001b[0m     \u001b[39m# Is the path item a zipfile?\u001b[39;00m\n\u001b[0;32m--> <a href='file:///opt/homebrew/Caskroom/miniforge/base/envs/torch/lib/python3.9/site-packages/nltk/data.py?line=521'>522</a>\u001b[0m     \u001b[39mif\u001b[39;00m path_ \u001b[39mand\u001b[39;00m (os\u001b[39m.\u001b[39;49mpath\u001b[39m.\u001b[39;49misfile(path_) \u001b[39mand\u001b[39;00m path_\u001b[39m.\u001b[39mendswith(\u001b[39m\"\u001b[39m\u001b[39m.zip\u001b[39m\u001b[39m\"\u001b[39m)):\n\u001b[1;32m    <a href='file:///opt/homebrew/Caskroom/miniforge/base/envs/torch/lib/python3.9/site-packages/nltk/data.py?line=522'>523</a>\u001b[0m         \u001b[39mtry\u001b[39;00m:\n\u001b[1;32m    <a href='file:///opt/homebrew/Caskroom/miniforge/base/envs/torch/lib/python3.9/site-packages/nltk/data.py?line=523'>524</a>\u001b[0m             \u001b[39mreturn\u001b[39;00m ZipFilePathPointer(path_, resource_name)\n",
      "File \u001b[0;32m/opt/homebrew/Caskroom/miniforge/base/envs/torch/lib/python3.9/genericpath.py:30\u001b[0m, in \u001b[0;36misfile\u001b[0;34m(path)\u001b[0m\n\u001b[1;32m     <a href='file:///opt/homebrew/Caskroom/miniforge/base/envs/torch/lib/python3.9/genericpath.py?line=27'>28</a>\u001b[0m \u001b[39m\"\"\"Test whether a path is a regular file\"\"\"\u001b[39;00m\n\u001b[1;32m     <a href='file:///opt/homebrew/Caskroom/miniforge/base/envs/torch/lib/python3.9/genericpath.py?line=28'>29</a>\u001b[0m \u001b[39mtry\u001b[39;00m:\n\u001b[0;32m---> <a href='file:///opt/homebrew/Caskroom/miniforge/base/envs/torch/lib/python3.9/genericpath.py?line=29'>30</a>\u001b[0m     st \u001b[39m=\u001b[39m os\u001b[39m.\u001b[39;49mstat(path)\n\u001b[1;32m     <a href='file:///opt/homebrew/Caskroom/miniforge/base/envs/torch/lib/python3.9/genericpath.py?line=30'>31</a>\u001b[0m \u001b[39mexcept\u001b[39;00m (\u001b[39mOSError\u001b[39;00m, \u001b[39mValueError\u001b[39;00m):\n\u001b[1;32m     <a href='file:///opt/homebrew/Caskroom/miniforge/base/envs/torch/lib/python3.9/genericpath.py?line=31'>32</a>\u001b[0m     \u001b[39mreturn\u001b[39;00m \u001b[39mFalse\u001b[39;00m\n",
      "\u001b[0;31mKeyboardInterrupt\u001b[0m: "
     ]
    }
   ],
   "source": [
    "new_df = df.copy()\n",
    "print(len(new_df))\n",
    "new_df = oversamplig(new_df)"
   ]
  },
  {
   "cell_type": "code",
   "execution_count": null,
   "metadata": {},
   "outputs": [
    {
     "data": {
      "text/plain": [
       "31"
      ]
     },
     "execution_count": 139,
     "metadata": {},
     "output_type": "execute_result"
    }
   ],
   "source": [
    "len(new_df)"
   ]
  },
  {
   "cell_type": "code",
   "execution_count": null,
   "metadata": {},
   "outputs": [],
   "source": [
    "new_df.to_csv('train_oversampled.csv', index=False)"
   ]
  }
 ],
 "metadata": {
  "interpreter": {
   "hash": "5aa82812c4681f8310f3f49363d12ac4c7be23abd4617d81f239e4ef56509db9"
  },
  "kernelspec": {
   "display_name": "Python 3.8.12 ('py38')",
   "language": "python",
   "name": "python3"
  },
  "language_info": {
   "codemirror_mode": {
    "name": "ipython",
    "version": 3
   },
   "file_extension": ".py",
   "mimetype": "text/x-python",
   "name": "python",
   "nbconvert_exporter": "python",
   "pygments_lexer": "ipython3",
   "version": "3.9.10"
  },
  "orig_nbformat": 4
 },
 "nbformat": 4,
 "nbformat_minor": 2
}
